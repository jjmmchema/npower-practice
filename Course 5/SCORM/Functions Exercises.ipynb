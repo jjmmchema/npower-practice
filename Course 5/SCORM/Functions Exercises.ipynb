{
 "cells": [
  {
   "cell_type": "markdown",
   "metadata": {},
   "source": [
    "# Functions Exercises "
   ]
  },
  {
   "cell_type": "code",
   "execution_count": 13,
   "metadata": {},
   "outputs": [],
   "source": [
    "#Q1 Write Python function that takes two inputs \n",
    "#and return their sum value\n",
    "\n",
    "def sum_numbers(n1, n2):\n",
    "    return n1 + n2"
   ]
  },
  {
   "cell_type": "code",
   "execution_count": 14,
   "metadata": {},
   "outputs": [
    {
     "data": {
      "text/plain": [
       "3"
      ]
     },
     "execution_count": 14,
     "metadata": {},
     "output_type": "execute_result"
    }
   ],
   "source": [
    "sum_numbers(1, 2)"
   ]
  },
  {
   "cell_type": "code",
   "execution_count": 25,
   "metadata": {},
   "outputs": [],
   "source": [
    "#Q2 Write Python function the takes a celsius temprature \n",
    "#and converts it into fahrenheit \n",
    "\n",
    "def cel_2_fahr():\n",
    "    celsius = float(input(\"Enter a celsius temperature: \"))\n",
    "    fahrenheit = 9/5*celsius + 32\n",
    "    return f'{celsius}°C = {fahrenheit}°F'"
   ]
  },
  {
   "cell_type": "code",
   "execution_count": 26,
   "metadata": {},
   "outputs": [
    {
     "name": "stdout",
     "output_type": "stream",
     "text": [
      "Enter a celsius temperature: 49.3\n"
     ]
    },
    {
     "data": {
      "text/plain": [
       "'49.3°C = 120.74°F'"
      ]
     },
     "execution_count": 26,
     "metadata": {},
     "output_type": "execute_result"
    }
   ],
   "source": [
    "cel_2_fahr()"
   ]
  },
  {
   "cell_type": "code",
   "execution_count": 34,
   "metadata": {},
   "outputs": [],
   "source": [
    "#Q3 Write a Python function to find the Max of three numbers\n",
    "def max_number(n1, n2, n3):\n",
    "    if n1 > n2 and n1 > n3:\n",
    "        return n1\n",
    "    elif n2 > n1 and n2 > n3:\n",
    "        return n2\n",
    "    else:\n",
    "        return n3\n",
    "    "
   ]
  },
  {
   "cell_type": "code",
   "execution_count": 46,
   "metadata": {},
   "outputs": [],
   "source": [
    "#Q4 Write a Python function to check whether a number \n",
    "#is in a given range [5,12]\n",
    "\n",
    "def in_range(n, start, finish):\n",
    "    return n in range(start, finish)"
   ]
  },
  {
   "cell_type": "code",
   "execution_count": 48,
   "metadata": {},
   "outputs": [
    {
     "data": {
      "text/plain": [
       "False"
      ]
     },
     "execution_count": 48,
     "metadata": {},
     "output_type": "execute_result"
    }
   ],
   "source": [
    "in_range(11, 1, 10)"
   ]
  },
  {
   "cell_type": "code",
   "execution_count": 49,
   "metadata": {},
   "outputs": [],
   "source": [
    "#Q5 Write a Python function that takes a list \n",
    "#and returns a new list with unique elements of the first\n",
    "#Sample_List : [1,2,3,3,3,3,4,5]\n",
    "\n",
    "def unique_list(l):\n",
    "    return list(set(l))"
   ]
  },
  {
   "cell_type": "code",
   "execution_count": 52,
   "metadata": {},
   "outputs": [
    {
     "data": {
      "text/plain": [
       "[1, 2, 3, 4, 5]"
      ]
     },
     "execution_count": 52,
     "metadata": {},
     "output_type": "execute_result"
    }
   ],
   "source": [
    "unique_list([1,2,2,3,3,3,3,4,5])"
   ]
  },
  {
   "cell_type": "code",
   "execution_count": 54,
   "metadata": {},
   "outputs": [],
   "source": [
    "#Q6 Given a list of numbers, return True if first \n",
    "#and last number of a list is same\n",
    "list1=[1,2,5,4,1]\n",
    "list2=[5,6,3,2,1]\n",
    "list3=[88,44,55,66,77,88]\n",
    "\n",
    "def are_equal(l):\n",
    "    return l[0] == l[-1]"
   ]
  },
  {
   "cell_type": "code",
   "execution_count": null,
   "metadata": {},
   "outputs": [],
   "source": [
    "list"
   ]
  }
 ],
 "metadata": {
  "kernelspec": {
   "display_name": "Python 3 (ipykernel)",
   "language": "python",
   "name": "python3"
  },
  "language_info": {
   "codemirror_mode": {
    "name": "ipython",
    "version": 3
   },
   "file_extension": ".py",
   "mimetype": "text/x-python",
   "name": "python",
   "nbconvert_exporter": "python",
   "pygments_lexer": "ipython3",
   "version": "3.11.2"
  }
 },
 "nbformat": 4,
 "nbformat_minor": 4
}
