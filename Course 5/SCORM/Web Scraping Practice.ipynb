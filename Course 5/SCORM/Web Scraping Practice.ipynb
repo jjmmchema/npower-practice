{
 "cells": [
  {
   "cell_type": "code",
   "execution_count": 1,
   "id": "71f547f1",
   "metadata": {},
   "outputs": [],
   "source": [
    "import requests\n",
    "import bs4\n",
    "import json\n",
    "import tweepy"
   ]
  },
  {
   "cell_type": "markdown",
   "id": "3f850336",
   "metadata": {},
   "source": [
    "1. Write a Python program to test if a given page is found or not on the server."
   ]
  },
  {
   "cell_type": "code",
   "execution_count": 3,
   "id": "be48023a",
   "metadata": {
    "scrolled": false
   },
   "outputs": [],
   "source": [
    "def check_url_status():\n",
    "    url = input(\"Enter a website url: \")\n",
    "    try:\n",
    "        rq = requests.head(url)\n",
    "        if rq.status_code == 200:\n",
    "            print(\"Succesfully connected\")\n",
    "        else:\n",
    "            print(\"Not connected\")\n",
    "    except:\n",
    "        print(\"Error...\")"
   ]
  },
  {
   "cell_type": "code",
   "execution_count": 4,
   "id": "6137d91b",
   "metadata": {},
   "outputs": [
    {
     "name": "stdout",
     "output_type": "stream",
     "text": [
      "Enter a website url: \n",
      "Error...\n"
     ]
    }
   ],
   "source": [
    "check_url_status()"
   ]
  },
  {
   "cell_type": "code",
   "execution_count": null,
   "id": "d8239bde",
   "metadata": {},
   "outputs": [],
   "source": []
  },
  {
   "cell_type": "markdown",
   "id": "a266a446",
   "metadata": {},
   "source": [
    "2. Write a Python program to extract and display all the header tags from en.wikipedia.org/wiki/Main_Page"
   ]
  },
  {
   "cell_type": "code",
   "execution_count": 5,
   "id": "65ec4acd",
   "metadata": {},
   "outputs": [],
   "source": [
    "def extract_header_tags():\n",
    "    url = 'https://en.wikipedia.org/wiki/Main_Page'\n",
    "    try:\n",
    "        rq = requests.get(url)\n",
    "        print(rq.headers)\n",
    "    except:\n",
    "        print(\"Error...\")"
   ]
  },
  {
   "cell_type": "code",
   "execution_count": 1,
   "id": "1e43f4de",
   "metadata": {},
   "outputs": [],
   "source": [
    "# extract_header_tags()"
   ]
  },
  {
   "cell_type": "code",
   "execution_count": null,
   "id": "9a887083",
   "metadata": {},
   "outputs": [],
   "source": []
  },
  {
   "cell_type": "markdown",
   "id": "5b358bb3",
   "metadata": {},
   "source": [
    "3. Write a Python program to get 90 days of visits broken down by browser for all sites on data.gov. "
   ]
  },
  {
   "cell_type": "code",
   "execution_count": null,
   "id": "41d430c7",
   "metadata": {},
   "outputs": [],
   "source": []
  },
  {
   "cell_type": "code",
   "execution_count": null,
   "id": "75eba1f0",
   "metadata": {},
   "outputs": [],
   "source": []
  },
  {
   "cell_type": "markdown",
   "id": "1d6f5309",
   "metadata": {},
   "source": [
    "4. Write a Python program to extract and display all the image links from en.wikipedia.org/wiki/Peter_Jeffrey_(RAAF_officer)"
   ]
  },
  {
   "cell_type": "code",
   "execution_count": 7,
   "id": "3514c74d",
   "metadata": {},
   "outputs": [],
   "source": [
    "def display_img_links():\n",
    "    url = 'https://en.wikipedia.org/wiki/Peter_Jeffrey_(RAAF_officer)'\n",
    "    rq = requests.get(url)\n",
    "    soup = bs4.BeautifulSoup(rq.text)\n",
    "    for img in soup.find_all('img'):\n",
    "        print(img['src'])"
   ]
  },
  {
   "cell_type": "code",
   "execution_count": 8,
   "id": "9fea9fdc",
   "metadata": {},
   "outputs": [
    {
     "name": "stdout",
     "output_type": "stream",
     "text": [
      "/static/images/icons/wikipedia.png\n",
      "/static/images/mobile/copyright/wikipedia-wordmark-en.svg\n",
      "/static/images/mobile/copyright/wikipedia-tagline-en.svg\n",
      "//upload.wikimedia.org/wikipedia/en/thumb/e/e7/Cscr-featured.svg/20px-Cscr-featured.svg.png\n",
      "//upload.wikimedia.org/wikipedia/commons/thumb/a/af/NlaJeffrey1942-43.jpg/220px-NlaJeffrey1942-43.jpg\n",
      "//upload.wikimedia.org/wikipedia/commons/thumb/c/c5/008315JeffreyTurnbull1941.jpg/260px-008315JeffreyTurnbull1941.jpg\n",
      "//upload.wikimedia.org/wikipedia/commons/e/ea/021807CameronJeffrey1941.jpg\n",
      "//upload.wikimedia.org/wikipedia/commons/thumb/9/92/AC0072JeffreyTruscottKittyhawks1942.jpg/280px-AC0072JeffreyTruscottKittyhawks1942.jpg\n",
      "//upload.wikimedia.org/wikipedia/commons/thumb/2/26/VIC1689Jeffrey1945.jpg/280px-VIC1689Jeffrey1945.jpg\n",
      "//upload.wikimedia.org/wikipedia/en/thumb/4/4a/Commons-logo.svg/30px-Commons-logo.svg.png\n",
      "//en.wikipedia.org/wiki/Special:CentralAutoLogin/start?type=1x1\n",
      "/static/images/footer/wikimedia-button.png\n",
      "/static/images/footer/poweredby_mediawiki_88x31.png\n"
     ]
    }
   ],
   "source": [
    "display_img_links()"
   ]
  },
  {
   "cell_type": "code",
   "execution_count": null,
   "id": "e8b8bac3",
   "metadata": {},
   "outputs": [],
   "source": []
  },
  {
   "cell_type": "markdown",
   "id": "f7fb5b40",
   "metadata": {},
   "source": [
    "5. Write a Python program to get the number of people visiting a U.S. government website right now. Source: https://analytics.usa.gov/data/live/realtime.json"
   ]
  },
  {
   "cell_type": "code",
   "execution_count": 9,
   "id": "ebb3faa6",
   "metadata": {},
   "outputs": [],
   "source": [
    "def get_active_users(url):\n",
    "    rq = requests.get(url)\n",
    "    active_users = rq.json()['data'][0]['active_visitors']\n",
    "    print(f'There are {active_users} users right now')"
   ]
  },
  {
   "cell_type": "code",
   "execution_count": 10,
   "id": "883357dd",
   "metadata": {},
   "outputs": [
    {
     "name": "stdout",
     "output_type": "stream",
     "text": [
      "There are 9713 users right now\n"
     ]
    }
   ],
   "source": [
    "get_active_users('https://analytics.usa.gov/data/live/realtime.json')"
   ]
  },
  {
   "cell_type": "code",
   "execution_count": null,
   "id": "81507b3a",
   "metadata": {},
   "outputs": [],
   "source": []
  },
  {
   "cell_type": "markdown",
   "id": "4b233339",
   "metadata": {},
   "source": [
    "6. Write a Python program to get the number of followers of a given twitter account. Choose any twitter account of your favorite celebrity"
   ]
  },
  {
   "cell_type": "code",
   "execution_count": 2,
   "id": "e48d7825",
   "metadata": {},
   "outputs": [],
   "source": [
    "# get_twitter_followers()\n"
   ]
  },
  {
   "cell_type": "markdown",
   "id": "aa05ab04",
   "metadata": {},
   "source": [
    "8. Write a Python program to display the contains of different attributes like different attributes like status_code, headers, url, history, encoding, reason, cookies, elapsed, request and content of a specified resource. "
   ]
  },
  {
   "cell_type": "code",
   "execution_count": null,
   "id": "81c8776a",
   "metadata": {},
   "outputs": [],
   "source": []
  },
  {
   "cell_type": "code",
   "execution_count": null,
   "id": "113676ac",
   "metadata": {},
   "outputs": [],
   "source": []
  },
  {
   "cell_type": "markdown",
   "id": "33e4d9d4",
   "metadata": {},
   "source": [
    "9. Write a Python program to extract h1 tag from example.com."
   ]
  },
  {
   "cell_type": "code",
   "execution_count": null,
   "id": "2753e78a",
   "metadata": {},
   "outputs": [],
   "source": [
    "def extract_h1():\n",
    "    rq = requests.get('https://example.com/')\n",
    "    "
   ]
  },
  {
   "cell_type": "code",
   "execution_count": null,
   "id": "553a0e05",
   "metadata": {},
   "outputs": [],
   "source": []
  },
  {
   "cell_type": "markdown",
   "id": "44f249db",
   "metadata": {},
   "source": [
    "10. Write a Python program to get the number of datasets currently listed on data.gov."
   ]
  },
  {
   "cell_type": "code",
   "execution_count": null,
   "id": "31ea686e",
   "metadata": {},
   "outputs": [],
   "source": []
  },
  {
   "cell_type": "code",
   "execution_count": null,
   "id": "3e6c8ccc",
   "metadata": {},
   "outputs": [],
   "source": []
  }
 ],
 "metadata": {
  "kernelspec": {
   "display_name": "Python 3 (ipykernel)",
   "language": "python",
   "name": "python3"
  },
  "language_info": {
   "codemirror_mode": {
    "name": "ipython",
    "version": 3
   },
   "file_extension": ".py",
   "mimetype": "text/x-python",
   "name": "python",
   "nbconvert_exporter": "python",
   "pygments_lexer": "ipython3",
   "version": "3.11.2"
  }
 },
 "nbformat": 4,
 "nbformat_minor": 5
}
