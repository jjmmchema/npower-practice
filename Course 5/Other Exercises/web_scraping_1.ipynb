{
 "cells": [
  {
   "cell_type": "code",
   "execution_count": 2,
   "id": "089b5e30",
   "metadata": {},
   "outputs": [],
   "source": [
    "import bs4 \n",
    "import requests\n",
    "\n",
    "#Questions for you all\n",
    "# How to extract images and audio files\n",
    "# create a small project on this topic that can be added on git hub as a small project"
   ]
  },
  {
   "cell_type": "markdown",
   "id": "6853b994",
   "metadata": {},
   "source": [
    "Website 1: Extracting Images"
   ]
  },
  {
   "cell_type": "code",
   "execution_count": 3,
   "id": "4f21e623",
   "metadata": {},
   "outputs": [],
   "source": [
    "url = \"https://joystock.org/royalty-free-music/track/divinity\"\n",
    "rq = requests.get(url)\n",
    "soup = bs4.BeautifulSoup(rq.text)\n",
    "\n",
    "# Find all the images\n",
    "img_list = soup.find_all('img')"
   ]
  },
  {
   "cell_type": "code",
   "execution_count": 4,
   "id": "0e143509",
   "metadata": {},
   "outputs": [
    {
     "name": "stdout",
     "output_type": "stream",
     "text": [
      "https://joystock.org/logos/joystock_black.png\n",
      "https://joystock.org/track-images/epic.jpg\n",
      "https://joystock.org/track-images/northern-lights.jpg\n",
      "https://joystock.org/track-images/spectacular.jpg\n",
      "https://joystock.org/track-images/grandiose.jpg\n",
      "https://joystock.org/icons/fast-easy.png\n",
      "https://joystock.org/icons/royalty-free.png\n",
      "https://joystock.org/icons/safe.png\n",
      "https://joystock.org/social-links/spotify.svg\n",
      "https://joystock.org/social-links/deezer.svg\n",
      "https://joystock.org/social-links/youtube.svg\n",
      "https://joystock.org/social-links/bandcamp.svg\n",
      "https://joystock.org/social-links/applemusic.svg\n",
      "https://joystock.org/social-links/tidal.svg\n",
      "https://joystock.org/social-links/jamendo.svg\n",
      "https://joystock.org/social-links/napster.svg\n",
      "https://joystock.org/social-links/amazon.svg\n",
      "https://joystock.org/social-links/facebook.svg\n",
      "https://joystock.org/social-links/twitter.svg\n"
     ]
    }
   ],
   "source": [
    "# B/c we're using find_all, we get a list back\n",
    "# Therefore, we need to iterate through it\n",
    "for item in img_list:\n",
    "    print('https://joystock.org' + item['src'])"
   ]
  },
  {
   "cell_type": "markdown",
   "id": "7be49256",
   "metadata": {},
   "source": [
    "Website 2: Extracting Audio Files"
   ]
  },
  {
   "cell_type": "code",
   "execution_count": 5,
   "id": "6e2be947",
   "metadata": {},
   "outputs": [],
   "source": [
    "url2 = 'https://albalearning.com/audiolibros/neruda/poema04-sp-en.html'\n",
    "rq2 = requests.get(url2)\n",
    "soup2 = bs4.BeautifulSoup(rq2.text)"
   ]
  },
  {
   "cell_type": "code",
   "execution_count": 6,
   "id": "42e31546",
   "metadata": {},
   "outputs": [],
   "source": [
    "audio_list = soup2.find_all('audio')"
   ]
  },
  {
   "cell_type": "code",
   "execution_count": 7,
   "id": "463d9745",
   "metadata": {},
   "outputs": [
    {
     "name": "stdout",
     "output_type": "stream",
     "text": [
      "[<audio controls=\"\">\n",
      "<source src=\"https://albalearning.com/S0NID0/neruda/psghelxsh76/albalearning-poema4_neruda.mp3\" type=\"audio/mpeg\"/>\n",
      "<source src=\"https://albalearning.com/S0NID0/neruda/psghelxsh76/albalearning-poema4_neruda.ogg\" type=\"audio/ogg\"/>\n",
      "</audio>]\n"
     ]
    }
   ],
   "source": [
    "# If we look at the list, there's only 1 audio tag:\n",
    "print(audio_list)"
   ]
  },
  {
   "cell_type": "code",
   "execution_count": 8,
   "id": "e9a3d4e9",
   "metadata": {},
   "outputs": [],
   "source": [
    "# Grab the first and only element\n",
    "audio = audio_list[0]\n",
    "\n",
    "# And extract the first html source tag from it:\n",
    "audio_src = audio.find('source')"
   ]
  },
  {
   "cell_type": "code",
   "execution_count": 9,
   "id": "2f6b14c8",
   "metadata": {},
   "outputs": [
    {
     "name": "stdout",
     "output_type": "stream",
     "text": [
      "https://albalearning.com/S0NID0/neruda/psghelxsh76/albalearning-poema4_neruda.mp3\n"
     ]
    }
   ],
   "source": [
    "# Finally, select the 'src' prop from the source html tag object\n",
    "print(audio_src['src'])"
   ]
  }
 ],
 "metadata": {
  "kernelspec": {
   "display_name": "Python 3 (ipykernel)",
   "language": "python",
   "name": "python3"
  },
  "language_info": {
   "codemirror_mode": {
    "name": "ipython",
    "version": 3
   },
   "file_extension": ".py",
   "mimetype": "text/x-python",
   "name": "python",
   "nbconvert_exporter": "python",
   "pygments_lexer": "ipython3",
   "version": "3.11.2"
  }
 },
 "nbformat": 4,
 "nbformat_minor": 5
}
