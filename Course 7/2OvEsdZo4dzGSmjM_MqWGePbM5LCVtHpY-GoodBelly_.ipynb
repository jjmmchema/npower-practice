{
 "cells": [
  {
   "cell_type": "code",
   "execution_count": 1,
   "id": "f4d9c9eb",
   "metadata": {
    "id": "f4d9c9eb"
   },
   "outputs": [],
   "source": [
    "import pandas as pd\n",
    "import numpy as np"
   ]
  },
  {
   "cell_type": "code",
   "execution_count": 7,
   "id": "beb8389f",
   "metadata": {
    "id": "beb8389f",
    "outputId": "aaf273b3-a298-4d26-b5e7-9ce2fecd04f8"
   },
   "outputs": [
    {
     "data": {
      "text/html": [
       "<div>\n",
       "<style scoped>\n",
       "    .dataframe tbody tr th:only-of-type {\n",
       "        vertical-align: middle;\n",
       "    }\n",
       "\n",
       "    .dataframe tbody tr th {\n",
       "        vertical-align: top;\n",
       "    }\n",
       "\n",
       "    .dataframe thead th {\n",
       "        text-align: right;\n",
       "    }\n",
       "</style>\n",
       "<table border=\"1\" class=\"dataframe\">\n",
       "  <thead>\n",
       "    <tr style=\"text-align: right;\">\n",
       "      <th></th>\n",
       "      <th>Date</th>\n",
       "      <th>Region</th>\n",
       "      <th>Store</th>\n",
       "      <th>Units Sold</th>\n",
       "      <th>Average Retail Price</th>\n",
       "      <th>Sales Rep</th>\n",
       "      <th>Endcap</th>\n",
       "      <th>Demo</th>\n",
       "      <th>Demo1-3</th>\n",
       "      <th>Demo4-5</th>\n",
       "      <th>Natural</th>\n",
       "      <th>Fitness</th>\n",
       "    </tr>\n",
       "  </thead>\n",
       "  <tbody>\n",
       "    <tr>\n",
       "      <th>0</th>\n",
       "      <td>2010-05-04</td>\n",
       "      <td>FL</td>\n",
       "      <td>Biscayne (aka Aventura)</td>\n",
       "      <td>150.702088</td>\n",
       "      <td>4.390000</td>\n",
       "      <td>0</td>\n",
       "      <td>0</td>\n",
       "      <td>0</td>\n",
       "      <td>0</td>\n",
       "      <td>0</td>\n",
       "      <td>1</td>\n",
       "      <td>0</td>\n",
       "    </tr>\n",
       "    <tr>\n",
       "      <th>1</th>\n",
       "      <td>2010-05-11</td>\n",
       "      <td>FL</td>\n",
       "      <td>Biscayne (aka Aventura)</td>\n",
       "      <td>197.403797</td>\n",
       "      <td>3.997692</td>\n",
       "      <td>0</td>\n",
       "      <td>0</td>\n",
       "      <td>0</td>\n",
       "      <td>0</td>\n",
       "      <td>0</td>\n",
       "      <td>1</td>\n",
       "      <td>0</td>\n",
       "    </tr>\n",
       "    <tr>\n",
       "      <th>2</th>\n",
       "      <td>2010-05-18</td>\n",
       "      <td>FL</td>\n",
       "      <td>Biscayne (aka Aventura)</td>\n",
       "      <td>235.106172</td>\n",
       "      <td>3.809231</td>\n",
       "      <td>0</td>\n",
       "      <td>0</td>\n",
       "      <td>0</td>\n",
       "      <td>0</td>\n",
       "      <td>0</td>\n",
       "      <td>1</td>\n",
       "      <td>0</td>\n",
       "    </tr>\n",
       "    <tr>\n",
       "      <th>3</th>\n",
       "      <td>2010-05-25</td>\n",
       "      <td>FL</td>\n",
       "      <td>Biscayne (aka Aventura)</td>\n",
       "      <td>226.692427</td>\n",
       "      <td>3.835000</td>\n",
       "      <td>0</td>\n",
       "      <td>0</td>\n",
       "      <td>0</td>\n",
       "      <td>0</td>\n",
       "      <td>0</td>\n",
       "      <td>1</td>\n",
       "      <td>0</td>\n",
       "    </tr>\n",
       "    <tr>\n",
       "      <th>4</th>\n",
       "      <td>2010-06-01</td>\n",
       "      <td>FL</td>\n",
       "      <td>Biscayne (aka Aventura)</td>\n",
       "      <td>257.688151</td>\n",
       "      <td>3.902500</td>\n",
       "      <td>0</td>\n",
       "      <td>0</td>\n",
       "      <td>0</td>\n",
       "      <td>0</td>\n",
       "      <td>0</td>\n",
       "      <td>1</td>\n",
       "      <td>0</td>\n",
       "    </tr>\n",
       "  </tbody>\n",
       "</table>\n",
       "</div>"
      ],
      "text/plain": [
       "        Date Region                    Store  Units Sold  \\\n",
       "0 2010-05-04     FL  Biscayne (aka Aventura)  150.702088   \n",
       "1 2010-05-11     FL  Biscayne (aka Aventura)  197.403797   \n",
       "2 2010-05-18     FL  Biscayne (aka Aventura)  235.106172   \n",
       "3 2010-05-25     FL  Biscayne (aka Aventura)  226.692427   \n",
       "4 2010-06-01     FL  Biscayne (aka Aventura)  257.688151   \n",
       "\n",
       "   Average Retail Price  Sales Rep  Endcap  Demo  Demo1-3  Demo4-5  Natural  \\\n",
       "0              4.390000          0       0     0        0        0        1   \n",
       "1              3.997692          0       0     0        0        0        1   \n",
       "2              3.809231          0       0     0        0        0        1   \n",
       "3              3.835000          0       0     0        0        0        1   \n",
       "4              3.902500          0       0     0        0        0        1   \n",
       "\n",
       "   Fitness  \n",
       "0        0  \n",
       "1        0  \n",
       "2        0  \n",
       "3        0  \n",
       "4        0  "
      ]
     },
     "execution_count": 7,
     "metadata": {},
     "output_type": "execute_result"
    }
   ],
   "source": [
    "path='GoodBelly-DataSet.xlsx'\n",
    "df=pd.read_excel(path, sheet_name=1)\n",
    "df.head()"
   ]
  },
  {
   "cell_type": "code",
   "execution_count": 8,
   "id": "12123e22",
   "metadata": {
    "id": "12123e22"
   },
   "outputs": [],
   "source": [
    "#Q1 - Give summary of numeric type of columns in dataset?"
   ]
  },
  {
   "cell_type": "code",
   "execution_count": 9,
   "id": "2e0ccda5",
   "metadata": {},
   "outputs": [
    {
     "data": {
      "text/html": [
       "<div>\n",
       "<style scoped>\n",
       "    .dataframe tbody tr th:only-of-type {\n",
       "        vertical-align: middle;\n",
       "    }\n",
       "\n",
       "    .dataframe tbody tr th {\n",
       "        vertical-align: top;\n",
       "    }\n",
       "\n",
       "    .dataframe thead th {\n",
       "        text-align: right;\n",
       "    }\n",
       "</style>\n",
       "<table border=\"1\" class=\"dataframe\">\n",
       "  <thead>\n",
       "    <tr style=\"text-align: right;\">\n",
       "      <th></th>\n",
       "      <th>Units Sold</th>\n",
       "      <th>Average Retail Price</th>\n",
       "      <th>Sales Rep</th>\n",
       "      <th>Endcap</th>\n",
       "      <th>Demo</th>\n",
       "      <th>Demo1-3</th>\n",
       "      <th>Demo4-5</th>\n",
       "      <th>Natural</th>\n",
       "      <th>Fitness</th>\n",
       "    </tr>\n",
       "  </thead>\n",
       "  <tbody>\n",
       "    <tr>\n",
       "      <th>count</th>\n",
       "      <td>1386.000000</td>\n",
       "      <td>1386.000000</td>\n",
       "      <td>1386.000000</td>\n",
       "      <td>1386.000000</td>\n",
       "      <td>1386.000000</td>\n",
       "      <td>1386.000000</td>\n",
       "      <td>1386.000000</td>\n",
       "      <td>1386.000000</td>\n",
       "      <td>1386.000000</td>\n",
       "    </tr>\n",
       "    <tr>\n",
       "      <th>mean</th>\n",
       "      <td>253.820718</td>\n",
       "      <td>4.107093</td>\n",
       "      <td>0.549784</td>\n",
       "      <td>0.038240</td>\n",
       "      <td>0.058442</td>\n",
       "      <td>0.156566</td>\n",
       "      <td>0.075758</td>\n",
       "      <td>1.448773</td>\n",
       "      <td>2.476190</td>\n",
       "    </tr>\n",
       "    <tr>\n",
       "      <th>std</th>\n",
       "      <td>110.998731</td>\n",
       "      <td>0.463828</td>\n",
       "      <td>0.497695</td>\n",
       "      <td>0.191843</td>\n",
       "      <td>0.234661</td>\n",
       "      <td>0.363522</td>\n",
       "      <td>0.264705</td>\n",
       "      <td>0.975092</td>\n",
       "      <td>1.592789</td>\n",
       "    </tr>\n",
       "    <tr>\n",
       "      <th>min</th>\n",
       "      <td>47.559852</td>\n",
       "      <td>2.889286</td>\n",
       "      <td>0.000000</td>\n",
       "      <td>0.000000</td>\n",
       "      <td>0.000000</td>\n",
       "      <td>0.000000</td>\n",
       "      <td>0.000000</td>\n",
       "      <td>0.000000</td>\n",
       "      <td>0.000000</td>\n",
       "    </tr>\n",
       "    <tr>\n",
       "      <th>25%</th>\n",
       "      <td>189.995471</td>\n",
       "      <td>3.775714</td>\n",
       "      <td>0.000000</td>\n",
       "      <td>0.000000</td>\n",
       "      <td>0.000000</td>\n",
       "      <td>0.000000</td>\n",
       "      <td>0.000000</td>\n",
       "      <td>1.000000</td>\n",
       "      <td>1.000000</td>\n",
       "    </tr>\n",
       "    <tr>\n",
       "      <th>50%</th>\n",
       "      <td>236.735266</td>\n",
       "      <td>4.096667</td>\n",
       "      <td>1.000000</td>\n",
       "      <td>0.000000</td>\n",
       "      <td>0.000000</td>\n",
       "      <td>0.000000</td>\n",
       "      <td>0.000000</td>\n",
       "      <td>1.000000</td>\n",
       "      <td>2.000000</td>\n",
       "    </tr>\n",
       "    <tr>\n",
       "      <th>75%</th>\n",
       "      <td>295.804391</td>\n",
       "      <td>4.425067</td>\n",
       "      <td>1.000000</td>\n",
       "      <td>0.000000</td>\n",
       "      <td>0.000000</td>\n",
       "      <td>0.000000</td>\n",
       "      <td>0.000000</td>\n",
       "      <td>2.000000</td>\n",
       "      <td>4.000000</td>\n",
       "    </tr>\n",
       "    <tr>\n",
       "      <th>max</th>\n",
       "      <td>1041.200256</td>\n",
       "      <td>6.251538</td>\n",
       "      <td>1.000000</td>\n",
       "      <td>1.000000</td>\n",
       "      <td>1.000000</td>\n",
       "      <td>1.000000</td>\n",
       "      <td>1.000000</td>\n",
       "      <td>4.000000</td>\n",
       "      <td>5.000000</td>\n",
       "    </tr>\n",
       "  </tbody>\n",
       "</table>\n",
       "</div>"
      ],
      "text/plain": [
       "        Units Sold  Average Retail Price    Sales Rep       Endcap  \\\n",
       "count  1386.000000           1386.000000  1386.000000  1386.000000   \n",
       "mean    253.820718              4.107093     0.549784     0.038240   \n",
       "std     110.998731              0.463828     0.497695     0.191843   \n",
       "min      47.559852              2.889286     0.000000     0.000000   \n",
       "25%     189.995471              3.775714     0.000000     0.000000   \n",
       "50%     236.735266              4.096667     1.000000     0.000000   \n",
       "75%     295.804391              4.425067     1.000000     0.000000   \n",
       "max    1041.200256              6.251538     1.000000     1.000000   \n",
       "\n",
       "              Demo      Demo1-3      Demo4-5      Natural      Fitness  \n",
       "count  1386.000000  1386.000000  1386.000000  1386.000000  1386.000000  \n",
       "mean      0.058442     0.156566     0.075758     1.448773     2.476190  \n",
       "std       0.234661     0.363522     0.264705     0.975092     1.592789  \n",
       "min       0.000000     0.000000     0.000000     0.000000     0.000000  \n",
       "25%       0.000000     0.000000     0.000000     1.000000     1.000000  \n",
       "50%       0.000000     0.000000     0.000000     1.000000     2.000000  \n",
       "75%       0.000000     0.000000     0.000000     2.000000     4.000000  \n",
       "max       1.000000     1.000000     1.000000     4.000000     5.000000  "
      ]
     },
     "execution_count": 9,
     "metadata": {},
     "output_type": "execute_result"
    }
   ],
   "source": [
    "df.describe()"
   ]
  },
  {
   "cell_type": "code",
   "execution_count": 10,
   "id": "13283b1d",
   "metadata": {
    "id": "13283b1d"
   },
   "outputs": [],
   "source": [
    "#Q2 Calc STD of columns in dataset"
   ]
  },
  {
   "cell_type": "code",
   "execution_count": 15,
   "id": "c6449b8b",
   "metadata": {},
   "outputs": [
    {
     "data": {
      "text/plain": [
       "Units Sold              110.998731\n",
       "Average Retail Price      0.463828\n",
       "Sales Rep                 0.497695\n",
       "Endcap                    0.191843\n",
       "Demo                      0.234661\n",
       "Demo1-3                   0.363522\n",
       "Demo4-5                   0.264705\n",
       "Natural                   0.975092\n",
       "Fitness                   1.592789\n",
       "dtype: float64"
      ]
     },
     "execution_count": 15,
     "metadata": {},
     "output_type": "execute_result"
    }
   ],
   "source": [
    "df.std(numeric_only=True)"
   ]
  },
  {
   "cell_type": "code",
   "execution_count": 16,
   "id": "7c71300a",
   "metadata": {
    "id": "7c71300a"
   },
   "outputs": [],
   "source": [
    "#Q3 mean of first 50 records in dataset"
   ]
  },
  {
   "cell_type": "code",
   "execution_count": 17,
   "id": "e186a4a9",
   "metadata": {},
   "outputs": [
    {
     "data": {
      "text/plain": [
       "Units Sold              186.280727\n",
       "Average Retail Price      4.128036\n",
       "Sales Rep                 0.000000\n",
       "Endcap                    0.100000\n",
       "Demo                      0.000000\n",
       "Demo1-3                   0.000000\n",
       "Demo4-5                   0.040000\n",
       "Natural                   1.300000\n",
       "Fitness                   1.560000\n",
       "dtype: float64"
      ]
     },
     "execution_count": 17,
     "metadata": {},
     "output_type": "execute_result"
    }
   ],
   "source": [
    "df.head(50).mean(numeric_only=True)"
   ]
  },
  {
   "cell_type": "code",
   "execution_count": 18,
   "id": "6a5e7d11",
   "metadata": {
    "id": "6a5e7d11"
   },
   "outputs": [],
   "source": [
    "#Q4 What are thecolumn names"
   ]
  },
  {
   "cell_type": "code",
   "execution_count": 21,
   "id": "a6a9155c",
   "metadata": {},
   "outputs": [
    {
     "data": {
      "text/plain": [
       "Index(['Date', 'Region', 'Store', 'Units Sold', 'Average Retail Price',\n",
       "       'Sales Rep', 'Endcap', 'Demo', 'Demo1-3', 'Demo4-5', 'Natural',\n",
       "       'Fitness'],\n",
       "      dtype='object')"
      ]
     },
     "execution_count": 21,
     "metadata": {},
     "output_type": "execute_result"
    }
   ],
   "source": [
    "df.columns"
   ]
  },
  {
   "cell_type": "code",
   "execution_count": 22,
   "id": "d34a7891",
   "metadata": {
    "id": "d34a7891"
   },
   "outputs": [],
   "source": [
    "#Q - Number of elements in dataset"
   ]
  },
  {
   "cell_type": "code",
   "execution_count": 26,
   "id": "099e60ac",
   "metadata": {},
   "outputs": [
    {
     "data": {
      "text/plain": [
       "Date                    1386\n",
       "Region                  1243\n",
       "Store                   1386\n",
       "Units Sold              1386\n",
       "Average Retail Price    1386\n",
       "Sales Rep               1386\n",
       "Endcap                  1386\n",
       "Demo                    1386\n",
       "Demo1-3                 1386\n",
       "Demo4-5                 1386\n",
       "Natural                 1386\n",
       "Fitness                 1386\n",
       "dtype: int64"
      ]
     },
     "execution_count": 26,
     "metadata": {},
     "output_type": "execute_result"
    }
   ],
   "source": [
    "df.count()"
   ]
  },
  {
   "cell_type": "code",
   "execution_count": 27,
   "id": "0b111e99",
   "metadata": {
    "id": "0b111e99"
   },
   "outputs": [],
   "source": [
    "#Q- No. of records this dataset has"
   ]
  },
  {
   "cell_type": "code",
   "execution_count": 29,
   "id": "5d10c94d",
   "metadata": {},
   "outputs": [
    {
     "data": {
      "text/plain": [
       "(1386, 12)"
      ]
     },
     "execution_count": 29,
     "metadata": {},
     "output_type": "execute_result"
    }
   ],
   "source": [
    "df.shape"
   ]
  },
  {
   "cell_type": "code",
   "execution_count": null,
   "id": "428747b0",
   "metadata": {
    "id": "428747b0"
   },
   "outputs": [],
   "source": [
    "#Q type of column dataset has"
   ]
  },
  {
   "cell_type": "code",
   "execution_count": 28,
   "id": "21f7c0cd",
   "metadata": {
    "id": "21f7c0cd"
   },
   "outputs": [
    {
     "name": "stdout",
     "output_type": "stream",
     "text": [
      "<class 'pandas.core.frame.DataFrame'>\n",
      "RangeIndex: 1386 entries, 0 to 1385\n",
      "Data columns (total 12 columns):\n",
      " #   Column                Non-Null Count  Dtype         \n",
      "---  ------                --------------  -----         \n",
      " 0   Date                  1386 non-null   datetime64[ns]\n",
      " 1   Region                1243 non-null   object        \n",
      " 2   Store                 1386 non-null   object        \n",
      " 3   Units Sold            1386 non-null   float64       \n",
      " 4   Average Retail Price  1386 non-null   float64       \n",
      " 5   Sales Rep             1386 non-null   int64         \n",
      " 6   Endcap                1386 non-null   int64         \n",
      " 7   Demo                  1386 non-null   int64         \n",
      " 8   Demo1-3               1386 non-null   int64         \n",
      " 9   Demo4-5               1386 non-null   int64         \n",
      " 10  Natural               1386 non-null   int64         \n",
      " 11  Fitness               1386 non-null   int64         \n",
      "dtypes: datetime64[ns](1), float64(2), int64(7), object(2)\n",
      "memory usage: 130.1+ KB\n"
     ]
    }
   ],
   "source": [
    "df.info()"
   ]
  },
  {
   "cell_type": "code",
   "execution_count": null,
   "id": "821d9a6b",
   "metadata": {},
   "outputs": [],
   "source": []
  }
 ],
 "metadata": {
  "colab": {
   "provenance": []
  },
  "kernelspec": {
   "display_name": "Python 3 (ipykernel)",
   "language": "python",
   "name": "python3"
  },
  "language_info": {
   "codemirror_mode": {
    "name": "ipython",
    "version": 3
   },
   "file_extension": ".py",
   "mimetype": "text/x-python",
   "name": "python",
   "nbconvert_exporter": "python",
   "pygments_lexer": "ipython3",
   "version": "3.11.2"
  }
 },
 "nbformat": 4,
 "nbformat_minor": 5
}
