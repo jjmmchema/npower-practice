{
 "cells": [
  {
   "cell_type": "code",
   "execution_count": 484,
   "id": "94b97edd",
   "metadata": {},
   "outputs": [],
   "source": [
    "import pandas as pd\n",
    "import numpy as np\n",
    "import seaborn as sb\n",
    "from matplotlib import pyplot as plt"
   ]
  },
  {
   "cell_type": "code",
   "execution_count": 485,
   "id": "7a3a18e2",
   "metadata": {},
   "outputs": [],
   "source": [
    "df = pd.read_excel(\"auto-mpg .xlsx\")"
   ]
  },
  {
   "cell_type": "code",
   "execution_count": 486,
   "id": "6bb5ba20",
   "metadata": {},
   "outputs": [
    {
     "data": {
      "text/html": [
       "<div>\n",
       "<style scoped>\n",
       "    .dataframe tbody tr th:only-of-type {\n",
       "        vertical-align: middle;\n",
       "    }\n",
       "\n",
       "    .dataframe tbody tr th {\n",
       "        vertical-align: top;\n",
       "    }\n",
       "\n",
       "    .dataframe thead th {\n",
       "        text-align: right;\n",
       "    }\n",
       "</style>\n",
       "<table border=\"1\" class=\"dataframe\">\n",
       "  <thead>\n",
       "    <tr style=\"text-align: right;\">\n",
       "      <th></th>\n",
       "      <th>mpg</th>\n",
       "      <th>cylinders</th>\n",
       "      <th>displacement</th>\n",
       "      <th>horsepower</th>\n",
       "      <th>weight</th>\n",
       "      <th>acceleration</th>\n",
       "      <th>model year</th>\n",
       "      <th>origin</th>\n",
       "      <th>car name</th>\n",
       "      <th>CAR Number</th>\n",
       "    </tr>\n",
       "  </thead>\n",
       "  <tbody>\n",
       "    <tr>\n",
       "      <th>0</th>\n",
       "      <td>18</td>\n",
       "      <td>8</td>\n",
       "      <td>307.0</td>\n",
       "      <td>130</td>\n",
       "      <td>3504</td>\n",
       "      <td>12.0</td>\n",
       "      <td>70.0</td>\n",
       "      <td>1</td>\n",
       "      <td>chevrolet chevelle malibu</td>\n",
       "      <td>L6V 043</td>\n",
       "    </tr>\n",
       "    <tr>\n",
       "      <th>1</th>\n",
       "      <td>15</td>\n",
       "      <td>8</td>\n",
       "      <td>350.0</td>\n",
       "      <td>165</td>\n",
       "      <td>3693</td>\n",
       "      <td>11.5</td>\n",
       "      <td>70.0</td>\n",
       "      <td>1</td>\n",
       "      <td>buick skylark 320</td>\n",
       "      <td>RTY079</td>\n",
       "    </tr>\n",
       "    <tr>\n",
       "      <th>2</th>\n",
       "      <td>18</td>\n",
       "      <td>8</td>\n",
       "      <td>318.0</td>\n",
       "      <td>150</td>\n",
       "      <td>3436</td>\n",
       "      <td>11.0</td>\n",
       "      <td>70.0</td>\n",
       "      <td>1</td>\n",
       "      <td>plymouth satellite</td>\n",
       "      <td>MTP600</td>\n",
       "    </tr>\n",
       "    <tr>\n",
       "      <th>3</th>\n",
       "      <td>16</td>\n",
       "      <td>8</td>\n",
       "      <td>304.0</td>\n",
       "      <td>150</td>\n",
       "      <td>3433</td>\n",
       "      <td>12.0</td>\n",
       "      <td>70.0</td>\n",
       "      <td>1</td>\n",
       "      <td>amc rebel sst</td>\n",
       "      <td>MNJ000</td>\n",
       "    </tr>\n",
       "    <tr>\n",
       "      <th>4</th>\n",
       "      <td>17</td>\n",
       "      <td>8</td>\n",
       "      <td>302.0</td>\n",
       "      <td>140</td>\n",
       "      <td>3449</td>\n",
       "      <td>10.5</td>\n",
       "      <td>70.0</td>\n",
       "      <td>1</td>\n",
       "      <td>ford torino</td>\n",
       "      <td>JEETMEET</td>\n",
       "    </tr>\n",
       "  </tbody>\n",
       "</table>\n",
       "</div>"
      ],
      "text/plain": [
       "   mpg  cylinders  displacement  horsepower  weight  acceleration  model year  \\\n",
       "0   18          8         307.0         130    3504          12.0        70.0   \n",
       "1   15          8         350.0         165    3693          11.5        70.0   \n",
       "2   18          8         318.0         150    3436          11.0        70.0   \n",
       "3   16          8         304.0         150    3433          12.0        70.0   \n",
       "4   17          8         302.0         140    3449          10.5        70.0   \n",
       "\n",
       "   origin                   car name CAR Number  \n",
       "0       1  chevrolet chevelle malibu    L6V 043  \n",
       "1       1          buick skylark 320     RTY079  \n",
       "2       1         plymouth satellite     MTP600  \n",
       "3       1              amc rebel sst     MNJ000  \n",
       "4       1                ford torino   JEETMEET  "
      ]
     },
     "execution_count": 486,
     "metadata": {},
     "output_type": "execute_result"
    }
   ],
   "source": [
    "df.head()"
   ]
  },
  {
   "cell_type": "markdown",
   "id": "6965d445",
   "metadata": {},
   "source": [
    "### 1. Drop Origin column"
   ]
  },
  {
   "cell_type": "code",
   "execution_count": 487,
   "id": "df59488f",
   "metadata": {},
   "outputs": [],
   "source": [
    "df.drop(columns=['origin'], inplace=True)"
   ]
  },
  {
   "cell_type": "markdown",
   "id": "293c4eff",
   "metadata": {},
   "source": [
    "### 2. Find missing values and replace them with most appropiate option"
   ]
  },
  {
   "cell_type": "code",
   "execution_count": 488,
   "id": "1fa576ee",
   "metadata": {},
   "outputs": [
    {
     "data": {
      "text/plain": [
       "mpg             0\n",
       "cylinders       0\n",
       "displacement    0\n",
       "horsepower      0\n",
       "weight          0\n",
       "acceleration    2\n",
       "model year      2\n",
       "car name        0\n",
       "CAR Number      7\n",
       "dtype: int64"
      ]
     },
     "execution_count": 488,
     "metadata": {},
     "output_type": "execute_result"
    }
   ],
   "source": [
    "df.isnull().sum()"
   ]
  },
  {
   "cell_type": "code",
   "execution_count": 489,
   "id": "c05e72b9",
   "metadata": {},
   "outputs": [
    {
     "data": {
      "text/html": [
       "<div>\n",
       "<style scoped>\n",
       "    .dataframe tbody tr th:only-of-type {\n",
       "        vertical-align: middle;\n",
       "    }\n",
       "\n",
       "    .dataframe tbody tr th {\n",
       "        vertical-align: top;\n",
       "    }\n",
       "\n",
       "    .dataframe thead th {\n",
       "        text-align: right;\n",
       "    }\n",
       "</style>\n",
       "<table border=\"1\" class=\"dataframe\">\n",
       "  <thead>\n",
       "    <tr style=\"text-align: right;\">\n",
       "      <th></th>\n",
       "      <th>mpg</th>\n",
       "      <th>cylinders</th>\n",
       "      <th>displacement</th>\n",
       "      <th>horsepower</th>\n",
       "      <th>weight</th>\n",
       "      <th>acceleration</th>\n",
       "      <th>model year</th>\n",
       "      <th>car name</th>\n",
       "      <th>CAR Number</th>\n",
       "    </tr>\n",
       "  </thead>\n",
       "  <tbody>\n",
       "    <tr>\n",
       "      <th>9</th>\n",
       "      <td>15</td>\n",
       "      <td>8</td>\n",
       "      <td>390.0</td>\n",
       "      <td>190</td>\n",
       "      <td>3850</td>\n",
       "      <td>8.5</td>\n",
       "      <td>70.0</td>\n",
       "      <td>amc ambassador dpl</td>\n",
       "      <td>NaN</td>\n",
       "    </tr>\n",
       "    <tr>\n",
       "      <th>21</th>\n",
       "      <td>24</td>\n",
       "      <td>4</td>\n",
       "      <td>107.0</td>\n",
       "      <td>90</td>\n",
       "      <td>2430</td>\n",
       "      <td>NaN</td>\n",
       "      <td>70.0</td>\n",
       "      <td>audi 100 ls</td>\n",
       "      <td>JH5673R</td>\n",
       "    </tr>\n",
       "    <tr>\n",
       "      <th>26</th>\n",
       "      <td>10</td>\n",
       "      <td>8</td>\n",
       "      <td>307.0</td>\n",
       "      <td>200</td>\n",
       "      <td>4376</td>\n",
       "      <td>15.0</td>\n",
       "      <td>70.0</td>\n",
       "      <td>chevy c20</td>\n",
       "      <td>NaN</td>\n",
       "    </tr>\n",
       "    <tr>\n",
       "      <th>29</th>\n",
       "      <td>27</td>\n",
       "      <td>4</td>\n",
       "      <td>97.0</td>\n",
       "      <td>88</td>\n",
       "      <td>2130</td>\n",
       "      <td>14.5</td>\n",
       "      <td>71.0</td>\n",
       "      <td>datsun pl510</td>\n",
       "      <td>NaN</td>\n",
       "    </tr>\n",
       "    <tr>\n",
       "      <th>32</th>\n",
       "      <td>25</td>\n",
       "      <td>4</td>\n",
       "      <td>98.0</td>\n",
       "      <td>80</td>\n",
       "      <td>2046</td>\n",
       "      <td>19.0</td>\n",
       "      <td>71.0</td>\n",
       "      <td>ford pinto</td>\n",
       "      <td>NaN</td>\n",
       "    </tr>\n",
       "    <tr>\n",
       "      <th>45</th>\n",
       "      <td>18</td>\n",
       "      <td>6</td>\n",
       "      <td>258.0</td>\n",
       "      <td>110</td>\n",
       "      <td>2962</td>\n",
       "      <td>13.5</td>\n",
       "      <td>NaN</td>\n",
       "      <td>amc hornet sportabout (sw)</td>\n",
       "      <td>GTHY79</td>\n",
       "    </tr>\n",
       "    <tr>\n",
       "      <th>52</th>\n",
       "      <td>30</td>\n",
       "      <td>4</td>\n",
       "      <td>88.0</td>\n",
       "      <td>76</td>\n",
       "      <td>2065</td>\n",
       "      <td>14.5</td>\n",
       "      <td>71.0</td>\n",
       "      <td>fiat 124b</td>\n",
       "      <td>NaN</td>\n",
       "    </tr>\n",
       "    <tr>\n",
       "      <th>53</th>\n",
       "      <td>31</td>\n",
       "      <td>4</td>\n",
       "      <td>71.0</td>\n",
       "      <td>65</td>\n",
       "      <td>1773</td>\n",
       "      <td>NaN</td>\n",
       "      <td>71.0</td>\n",
       "      <td>toyota corolla 1200</td>\n",
       "      <td>T568G4</td>\n",
       "    </tr>\n",
       "    <tr>\n",
       "      <th>54</th>\n",
       "      <td>35</td>\n",
       "      <td>4</td>\n",
       "      <td>72.0</td>\n",
       "      <td>69</td>\n",
       "      <td>1613</td>\n",
       "      <td>18.0</td>\n",
       "      <td>71.0</td>\n",
       "      <td>datsun 1200</td>\n",
       "      <td>NaN</td>\n",
       "    </tr>\n",
       "    <tr>\n",
       "      <th>56</th>\n",
       "      <td>26</td>\n",
       "      <td>4</td>\n",
       "      <td>91.0</td>\n",
       "      <td>70</td>\n",
       "      <td>1955</td>\n",
       "      <td>20.5</td>\n",
       "      <td>NaN</td>\n",
       "      <td>plymouth cricket</td>\n",
       "      <td>TY6764</td>\n",
       "    </tr>\n",
       "    <tr>\n",
       "      <th>73</th>\n",
       "      <td>13</td>\n",
       "      <td>8</td>\n",
       "      <td>307.0</td>\n",
       "      <td>130</td>\n",
       "      <td>4098</td>\n",
       "      <td>14.0</td>\n",
       "      <td>72.0</td>\n",
       "      <td>chevrolet chevelle concours (sw)</td>\n",
       "      <td>NaN</td>\n",
       "    </tr>\n",
       "  </tbody>\n",
       "</table>\n",
       "</div>"
      ],
      "text/plain": [
       "    mpg  cylinders  displacement  horsepower  weight  acceleration  \\\n",
       "9    15          8         390.0         190    3850           8.5   \n",
       "21   24          4         107.0          90    2430           NaN   \n",
       "26   10          8         307.0         200    4376          15.0   \n",
       "29   27          4          97.0          88    2130          14.5   \n",
       "32   25          4          98.0          80    2046          19.0   \n",
       "45   18          6         258.0         110    2962          13.5   \n",
       "52   30          4          88.0          76    2065          14.5   \n",
       "53   31          4          71.0          65    1773           NaN   \n",
       "54   35          4          72.0          69    1613          18.0   \n",
       "56   26          4          91.0          70    1955          20.5   \n",
       "73   13          8         307.0         130    4098          14.0   \n",
       "\n",
       "    model year                          car name CAR Number  \n",
       "9         70.0                amc ambassador dpl        NaN  \n",
       "21        70.0                       audi 100 ls    JH5673R  \n",
       "26        70.0                         chevy c20        NaN  \n",
       "29        71.0                      datsun pl510        NaN  \n",
       "32        71.0                        ford pinto        NaN  \n",
       "45         NaN        amc hornet sportabout (sw)     GTHY79  \n",
       "52        71.0                         fiat 124b        NaN  \n",
       "53        71.0               toyota corolla 1200     T568G4  \n",
       "54        71.0                       datsun 1200        NaN  \n",
       "56         NaN                  plymouth cricket     TY6764  \n",
       "73        72.0  chevrolet chevelle concours (sw)        NaN  "
      ]
     },
     "execution_count": 489,
     "metadata": {},
     "output_type": "execute_result"
    }
   ],
   "source": [
    "rows_with_nulls = df[df.isnull().any(axis=1)]\n",
    "rows_with_nulls"
   ]
  },
  {
   "cell_type": "code",
   "execution_count": 490,
   "id": "55af91a8",
   "metadata": {},
   "outputs": [],
   "source": [
    "r1 = rows_with_nulls.loc[21]"
   ]
  },
  {
   "cell_type": "code",
   "execution_count": 491,
   "id": "c9bb1261",
   "metadata": {},
   "outputs": [],
   "source": [
    "# Deciding what to replace the NaN values with"
   ]
  },
  {
   "cell_type": "markdown",
   "id": "4a0fa3bb",
   "metadata": {},
   "source": [
    "In model year column, replace the NaN values with 71 since if you look at the data, you see how that column is ordered (from the top) in descending order and the elements are between or really close to the 71s"
   ]
  },
  {
   "cell_type": "code",
   "execution_count": 492,
   "id": "2685bac3",
   "metadata": {},
   "outputs": [],
   "source": [
    "df['model year'].fillna(71, inplace=True)"
   ]
  },
  {
   "cell_type": "code",
   "execution_count": 493,
   "id": "5b381566",
   "metadata": {},
   "outputs": [],
   "source": [
    "# fig, ax = plt.subplots(figsize=(10, 6))\n",
    "# sb.boxplot(data=df['acceleration'])"
   ]
  },
  {
   "cell_type": "code",
   "execution_count": 494,
   "id": "205331cc",
   "metadata": {},
   "outputs": [
    {
     "data": {
      "text/html": [
       "<div>\n",
       "<style scoped>\n",
       "    .dataframe tbody tr th:only-of-type {\n",
       "        vertical-align: middle;\n",
       "    }\n",
       "\n",
       "    .dataframe tbody tr th {\n",
       "        vertical-align: top;\n",
       "    }\n",
       "\n",
       "    .dataframe thead th {\n",
       "        text-align: right;\n",
       "    }\n",
       "</style>\n",
       "<table border=\"1\" class=\"dataframe\">\n",
       "  <thead>\n",
       "    <tr style=\"text-align: right;\">\n",
       "      <th></th>\n",
       "      <th>mpg</th>\n",
       "      <th>cylinders</th>\n",
       "      <th>displacement</th>\n",
       "      <th>horsepower</th>\n",
       "      <th>weight</th>\n",
       "      <th>acceleration</th>\n",
       "      <th>model year</th>\n",
       "      <th>car name</th>\n",
       "      <th>CAR Number</th>\n",
       "    </tr>\n",
       "  </thead>\n",
       "  <tbody>\n",
       "    <tr>\n",
       "      <th>9</th>\n",
       "      <td>15</td>\n",
       "      <td>8</td>\n",
       "      <td>390.0</td>\n",
       "      <td>190</td>\n",
       "      <td>3850</td>\n",
       "      <td>8.5</td>\n",
       "      <td>70.0</td>\n",
       "      <td>amc ambassador dpl</td>\n",
       "      <td>NaN</td>\n",
       "    </tr>\n",
       "    <tr>\n",
       "      <th>21</th>\n",
       "      <td>24</td>\n",
       "      <td>4</td>\n",
       "      <td>107.0</td>\n",
       "      <td>90</td>\n",
       "      <td>2430</td>\n",
       "      <td>NaN</td>\n",
       "      <td>70.0</td>\n",
       "      <td>audi 100 ls</td>\n",
       "      <td>JH5673R</td>\n",
       "    </tr>\n",
       "    <tr>\n",
       "      <th>26</th>\n",
       "      <td>10</td>\n",
       "      <td>8</td>\n",
       "      <td>307.0</td>\n",
       "      <td>200</td>\n",
       "      <td>4376</td>\n",
       "      <td>15.0</td>\n",
       "      <td>70.0</td>\n",
       "      <td>chevy c20</td>\n",
       "      <td>NaN</td>\n",
       "    </tr>\n",
       "    <tr>\n",
       "      <th>29</th>\n",
       "      <td>27</td>\n",
       "      <td>4</td>\n",
       "      <td>97.0</td>\n",
       "      <td>88</td>\n",
       "      <td>2130</td>\n",
       "      <td>14.5</td>\n",
       "      <td>71.0</td>\n",
       "      <td>datsun pl510</td>\n",
       "      <td>NaN</td>\n",
       "    </tr>\n",
       "    <tr>\n",
       "      <th>32</th>\n",
       "      <td>25</td>\n",
       "      <td>4</td>\n",
       "      <td>98.0</td>\n",
       "      <td>80</td>\n",
       "      <td>2046</td>\n",
       "      <td>19.0</td>\n",
       "      <td>71.0</td>\n",
       "      <td>ford pinto</td>\n",
       "      <td>NaN</td>\n",
       "    </tr>\n",
       "    <tr>\n",
       "      <th>52</th>\n",
       "      <td>30</td>\n",
       "      <td>4</td>\n",
       "      <td>88.0</td>\n",
       "      <td>76</td>\n",
       "      <td>2065</td>\n",
       "      <td>14.5</td>\n",
       "      <td>71.0</td>\n",
       "      <td>fiat 124b</td>\n",
       "      <td>NaN</td>\n",
       "    </tr>\n",
       "    <tr>\n",
       "      <th>53</th>\n",
       "      <td>31</td>\n",
       "      <td>4</td>\n",
       "      <td>71.0</td>\n",
       "      <td>65</td>\n",
       "      <td>1773</td>\n",
       "      <td>NaN</td>\n",
       "      <td>71.0</td>\n",
       "      <td>toyota corolla 1200</td>\n",
       "      <td>T568G4</td>\n",
       "    </tr>\n",
       "    <tr>\n",
       "      <th>54</th>\n",
       "      <td>35</td>\n",
       "      <td>4</td>\n",
       "      <td>72.0</td>\n",
       "      <td>69</td>\n",
       "      <td>1613</td>\n",
       "      <td>18.0</td>\n",
       "      <td>71.0</td>\n",
       "      <td>datsun 1200</td>\n",
       "      <td>NaN</td>\n",
       "    </tr>\n",
       "    <tr>\n",
       "      <th>73</th>\n",
       "      <td>13</td>\n",
       "      <td>8</td>\n",
       "      <td>307.0</td>\n",
       "      <td>130</td>\n",
       "      <td>4098</td>\n",
       "      <td>14.0</td>\n",
       "      <td>72.0</td>\n",
       "      <td>chevrolet chevelle concours (sw)</td>\n",
       "      <td>NaN</td>\n",
       "    </tr>\n",
       "  </tbody>\n",
       "</table>\n",
       "</div>"
      ],
      "text/plain": [
       "    mpg  cylinders  displacement  horsepower  weight  acceleration  \\\n",
       "9    15          8         390.0         190    3850           8.5   \n",
       "21   24          4         107.0          90    2430           NaN   \n",
       "26   10          8         307.0         200    4376          15.0   \n",
       "29   27          4          97.0          88    2130          14.5   \n",
       "32   25          4          98.0          80    2046          19.0   \n",
       "52   30          4          88.0          76    2065          14.5   \n",
       "53   31          4          71.0          65    1773           NaN   \n",
       "54   35          4          72.0          69    1613          18.0   \n",
       "73   13          8         307.0         130    4098          14.0   \n",
       "\n",
       "    model year                          car name CAR Number  \n",
       "9         70.0                amc ambassador dpl        NaN  \n",
       "21        70.0                       audi 100 ls    JH5673R  \n",
       "26        70.0                         chevy c20        NaN  \n",
       "29        71.0                      datsun pl510        NaN  \n",
       "32        71.0                        ford pinto        NaN  \n",
       "52        71.0                         fiat 124b        NaN  \n",
       "53        71.0               toyota corolla 1200     T568G4  \n",
       "54        71.0                       datsun 1200        NaN  \n",
       "73        72.0  chevrolet chevelle concours (sw)        NaN  "
      ]
     },
     "execution_count": 494,
     "metadata": {},
     "output_type": "execute_result"
    }
   ],
   "source": [
    "df[df.isnull().any(axis=1)]"
   ]
  },
  {
   "cell_type": "code",
   "execution_count": 495,
   "id": "43c7317e",
   "metadata": {},
   "outputs": [
    {
     "data": {
      "text/plain": [
       "(array([ 5., 11., 18., 19., 21.,  7.,  6.,  6.,  2.,  1.]),\n",
       " array([ 8.  ,  9.55, 11.1 , 12.65, 14.2 , 15.75, 17.3 , 18.85, 20.4 ,\n",
       "        21.95, 23.5 ]),\n",
       " <BarContainer object of 10 artists>)"
      ]
     },
     "execution_count": 495,
     "metadata": {},
     "output_type": "execute_result"
    },
    {
     "data": {
      "image/png": "[encoded data removed]",
      "text/plain": [
       "<Figure size 1000x600 with 1 Axes>"
      ]
     },
     "metadata": {},
     "output_type": "display_data"
    }
   ],
   "source": [
    "fig, ax = plt.subplots(figsize=(10, 6))\n",
    "plt.hist(df['acceleration'])"
   ]
  },
  {
   "cell_type": "code",
   "execution_count": 496,
   "id": "8579d958",
   "metadata": {},
   "outputs": [
    {
     "data": {
      "text/plain": [
       "14.0"
      ]
     },
     "execution_count": 496,
     "metadata": {},
     "output_type": "execute_result"
    }
   ],
   "source": [
    "df['acceleration'].sort_values().median()"
   ]
  },
  {
   "cell_type": "code",
   "execution_count": 497,
   "id": "14def650",
   "metadata": {},
   "outputs": [],
   "source": [
    "df['acceleration'].fillna(df['acceleration'].mean(), inplace=True)"
   ]
  },
  {
   "cell_type": "code",
   "execution_count": 498,
   "id": "ac109934",
   "metadata": {},
   "outputs": [],
   "source": [
    "import scipy"
   ]
  },
  {
   "cell_type": "code",
   "execution_count": 200,
   "id": "ea4a8744",
   "metadata": {},
   "outputs": [
    {
     "data": {
      "text/plain": [
       "NormaltestResult(statistic=4.33614013482718, pvalue=0.11439818478645539)"
      ]
     },
     "execution_count": 200,
     "metadata": {},
     "output_type": "execute_result"
    }
   ],
   "source": [
    "scipy.stats.normaltest(df['acceleration'], nan_policy='omit')"
   ]
  },
  {
   "cell_type": "markdown",
   "id": "894eb441",
   "metadata": {},
   "source": [
    "### 3. Find and remove duplicate entries for the column ‘CAR Number'"
   ]
  },
  {
   "cell_type": "markdown",
   "id": "bb3a937f",
   "metadata": {},
   "source": [
    "I dont want to delete the multiple entries with NaN,\n",
    "just the ones that are not null and are repeated\n"
   ]
  },
  {
   "cell_type": "code",
   "execution_count": 499,
   "id": "480b8582",
   "metadata": {},
   "outputs": [],
   "source": [
    "not_null_mask = df['CAR Number'].notnull() # = ~df['CAR Number'].isnull()\n",
    "duplicated_mask = df.duplicated(subset='CAR Number', keep='first')"
   ]
  },
  {
   "cell_type": "code",
   "execution_count": 500,
   "id": "557f54a7",
   "metadata": {
    "scrolled": true
   },
   "outputs": [],
   "source": [
    "# Select entries where both masks are True\n",
    "dup_entries = df[duplicated_mask & not_null_mask]\n",
    "df.drop(index=dup_entries.index, inplace=True)"
   ]
  },
  {
   "cell_type": "code",
   "execution_count": 501,
   "id": "ee508b94",
   "metadata": {},
   "outputs": [],
   "source": [
    "df.reset_index(inplace=True, drop=True)"
   ]
  },
  {
   "cell_type": "code",
   "execution_count": 502,
   "id": "595faa4b",
   "metadata": {},
   "outputs": [
    {
     "data": {
      "text/html": [
       "<div>\n",
       "<style scoped>\n",
       "    .dataframe tbody tr th:only-of-type {\n",
       "        vertical-align: middle;\n",
       "    }\n",
       "\n",
       "    .dataframe tbody tr th {\n",
       "        vertical-align: top;\n",
       "    }\n",
       "\n",
       "    .dataframe thead th {\n",
       "        text-align: right;\n",
       "    }\n",
       "</style>\n",
       "<table border=\"1\" class=\"dataframe\">\n",
       "  <thead>\n",
       "    <tr style=\"text-align: right;\">\n",
       "      <th></th>\n",
       "      <th>mpg</th>\n",
       "      <th>cylinders</th>\n",
       "      <th>displacement</th>\n",
       "      <th>horsepower</th>\n",
       "      <th>weight</th>\n",
       "      <th>acceleration</th>\n",
       "      <th>model year</th>\n",
       "      <th>car name</th>\n",
       "      <th>CAR Number</th>\n",
       "    </tr>\n",
       "  </thead>\n",
       "  <tbody>\n",
       "  </tbody>\n",
       "</table>\n",
       "</div>"
      ],
      "text/plain": [
       "Empty DataFrame\n",
       "Columns: [mpg, cylinders, displacement, horsepower, weight, acceleration, model year, car name, CAR Number]\n",
       "Index: []"
      ]
     },
     "execution_count": 502,
     "metadata": {},
     "output_type": "execute_result"
    }
   ],
   "source": [
    "# Now create the masks again to check if there are any duplicates:\n",
    "not_null_mask = df['CAR Number'].notnull() # = ~df['CAR Number'].isnull()\n",
    "duplicated_mask = df.duplicated(subset='CAR Number', keep='first')\n",
    "df[duplicated_mask & not_null_mask] # Empty, there aren't any duplicates (excluding NaN)"
   ]
  },
  {
   "cell_type": "markdown",
   "id": "ecf25eb0",
   "metadata": {},
   "source": [
    "### 4. Get Basic Insights"
   ]
  },
  {
   "cell_type": "code",
   "execution_count": 503,
   "id": "34958279",
   "metadata": {},
   "outputs": [
    {
     "data": {
      "text/html": [
       "<div>\n",
       "<style scoped>\n",
       "    .dataframe tbody tr th:only-of-type {\n",
       "        vertical-align: middle;\n",
       "    }\n",
       "\n",
       "    .dataframe tbody tr th {\n",
       "        vertical-align: top;\n",
       "    }\n",
       "\n",
       "    .dataframe thead th {\n",
       "        text-align: right;\n",
       "    }\n",
       "</style>\n",
       "<table border=\"1\" class=\"dataframe\">\n",
       "  <thead>\n",
       "    <tr style=\"text-align: right;\">\n",
       "      <th></th>\n",
       "      <th>mpg</th>\n",
       "      <th>cylinders</th>\n",
       "      <th>displacement</th>\n",
       "      <th>horsepower</th>\n",
       "      <th>weight</th>\n",
       "      <th>acceleration</th>\n",
       "      <th>model year</th>\n",
       "      <th>car name</th>\n",
       "      <th>CAR Number</th>\n",
       "    </tr>\n",
       "  </thead>\n",
       "  <tbody>\n",
       "    <tr>\n",
       "      <th>0</th>\n",
       "      <td>18</td>\n",
       "      <td>8</td>\n",
       "      <td>307.0</td>\n",
       "      <td>130</td>\n",
       "      <td>3504</td>\n",
       "      <td>12.0</td>\n",
       "      <td>70.0</td>\n",
       "      <td>chevrolet chevelle malibu</td>\n",
       "      <td>L6V 043</td>\n",
       "    </tr>\n",
       "    <tr>\n",
       "      <th>1</th>\n",
       "      <td>15</td>\n",
       "      <td>8</td>\n",
       "      <td>350.0</td>\n",
       "      <td>165</td>\n",
       "      <td>3693</td>\n",
       "      <td>11.5</td>\n",
       "      <td>70.0</td>\n",
       "      <td>buick skylark 320</td>\n",
       "      <td>RTY079</td>\n",
       "    </tr>\n",
       "    <tr>\n",
       "      <th>2</th>\n",
       "      <td>18</td>\n",
       "      <td>8</td>\n",
       "      <td>318.0</td>\n",
       "      <td>150</td>\n",
       "      <td>3436</td>\n",
       "      <td>11.0</td>\n",
       "      <td>70.0</td>\n",
       "      <td>plymouth satellite</td>\n",
       "      <td>MTP600</td>\n",
       "    </tr>\n",
       "    <tr>\n",
       "      <th>3</th>\n",
       "      <td>16</td>\n",
       "      <td>8</td>\n",
       "      <td>304.0</td>\n",
       "      <td>150</td>\n",
       "      <td>3433</td>\n",
       "      <td>12.0</td>\n",
       "      <td>70.0</td>\n",
       "      <td>amc rebel sst</td>\n",
       "      <td>MNJ000</td>\n",
       "    </tr>\n",
       "    <tr>\n",
       "      <th>4</th>\n",
       "      <td>17</td>\n",
       "      <td>8</td>\n",
       "      <td>302.0</td>\n",
       "      <td>140</td>\n",
       "      <td>3449</td>\n",
       "      <td>10.5</td>\n",
       "      <td>70.0</td>\n",
       "      <td>ford torino</td>\n",
       "      <td>JEETMEET</td>\n",
       "    </tr>\n",
       "  </tbody>\n",
       "</table>\n",
       "</div>"
      ],
      "text/plain": [
       "   mpg  cylinders  displacement  horsepower  weight  acceleration  model year  \\\n",
       "0   18          8         307.0         130    3504          12.0        70.0   \n",
       "1   15          8         350.0         165    3693          11.5        70.0   \n",
       "2   18          8         318.0         150    3436          11.0        70.0   \n",
       "3   16          8         304.0         150    3433          12.0        70.0   \n",
       "4   17          8         302.0         140    3449          10.5        70.0   \n",
       "\n",
       "                    car name CAR Number  \n",
       "0  chevrolet chevelle malibu    L6V 043  \n",
       "1          buick skylark 320     RTY079  \n",
       "2         plymouth satellite     MTP600  \n",
       "3              amc rebel sst     MNJ000  \n",
       "4                ford torino   JEETMEET  "
      ]
     },
     "execution_count": 503,
     "metadata": {},
     "output_type": "execute_result"
    }
   ],
   "source": [
    "df.head(5)"
   ]
  },
  {
   "cell_type": "code",
   "execution_count": 504,
   "id": "979539b7",
   "metadata": {},
   "outputs": [
    {
     "data": {
      "text/html": [
       "<div>\n",
       "<style scoped>\n",
       "    .dataframe tbody tr th:only-of-type {\n",
       "        vertical-align: middle;\n",
       "    }\n",
       "\n",
       "    .dataframe tbody tr th {\n",
       "        vertical-align: top;\n",
       "    }\n",
       "\n",
       "    .dataframe thead th {\n",
       "        text-align: right;\n",
       "    }\n",
       "</style>\n",
       "<table border=\"1\" class=\"dataframe\">\n",
       "  <thead>\n",
       "    <tr style=\"text-align: right;\">\n",
       "      <th></th>\n",
       "      <th>mpg</th>\n",
       "      <th>cylinders</th>\n",
       "      <th>displacement</th>\n",
       "      <th>horsepower</th>\n",
       "      <th>weight</th>\n",
       "      <th>acceleration</th>\n",
       "      <th>model year</th>\n",
       "      <th>car name</th>\n",
       "      <th>CAR Number</th>\n",
       "    </tr>\n",
       "  </thead>\n",
       "  <tbody>\n",
       "    <tr>\n",
       "      <th>91</th>\n",
       "      <td>14</td>\n",
       "      <td>8</td>\n",
       "      <td>318.0</td>\n",
       "      <td>150</td>\n",
       "      <td>4237</td>\n",
       "      <td>14.5</td>\n",
       "      <td>73.0</td>\n",
       "      <td>plymouth fury gran sedan</td>\n",
       "      <td>FGTEE4</td>\n",
       "    </tr>\n",
       "    <tr>\n",
       "      <th>92</th>\n",
       "      <td>13</td>\n",
       "      <td>8</td>\n",
       "      <td>440.0</td>\n",
       "      <td>215</td>\n",
       "      <td>4735</td>\n",
       "      <td>11.0</td>\n",
       "      <td>73.0</td>\n",
       "      <td>chrysler new yorker brougham</td>\n",
       "      <td>GTTYR6</td>\n",
       "    </tr>\n",
       "    <tr>\n",
       "      <th>93</th>\n",
       "      <td>12</td>\n",
       "      <td>8</td>\n",
       "      <td>455.0</td>\n",
       "      <td>225</td>\n",
       "      <td>4951</td>\n",
       "      <td>11.0</td>\n",
       "      <td>73.0</td>\n",
       "      <td>buick electra 225 custom</td>\n",
       "      <td>TTGGT53</td>\n",
       "    </tr>\n",
       "    <tr>\n",
       "      <th>94</th>\n",
       "      <td>13</td>\n",
       "      <td>8</td>\n",
       "      <td>360.0</td>\n",
       "      <td>175</td>\n",
       "      <td>3821</td>\n",
       "      <td>11.0</td>\n",
       "      <td>73.0</td>\n",
       "      <td>amc ambassador brougham</td>\n",
       "      <td>TGTYY67</td>\n",
       "    </tr>\n",
       "    <tr>\n",
       "      <th>95</th>\n",
       "      <td>18</td>\n",
       "      <td>6</td>\n",
       "      <td>225.0</td>\n",
       "      <td>105</td>\n",
       "      <td>3121</td>\n",
       "      <td>16.5</td>\n",
       "      <td>73.0</td>\n",
       "      <td>plymouth valiant</td>\n",
       "      <td>HUYT76</td>\n",
       "    </tr>\n",
       "  </tbody>\n",
       "</table>\n",
       "</div>"
      ],
      "text/plain": [
       "    mpg  cylinders  displacement  horsepower  weight  acceleration  \\\n",
       "91   14          8         318.0         150    4237          14.5   \n",
       "92   13          8         440.0         215    4735          11.0   \n",
       "93   12          8         455.0         225    4951          11.0   \n",
       "94   13          8         360.0         175    3821          11.0   \n",
       "95   18          6         225.0         105    3121          16.5   \n",
       "\n",
       "    model year                      car name CAR Number  \n",
       "91        73.0      plymouth fury gran sedan     FGTEE4  \n",
       "92        73.0  chrysler new yorker brougham     GTTYR6  \n",
       "93        73.0      buick electra 225 custom    TTGGT53  \n",
       "94        73.0       amc ambassador brougham    TGTYY67  \n",
       "95        73.0              plymouth valiant     HUYT76  "
      ]
     },
     "execution_count": 504,
     "metadata": {},
     "output_type": "execute_result"
    }
   ],
   "source": [
    "df.tail()"
   ]
  },
  {
   "cell_type": "code",
   "execution_count": 505,
   "id": "04ef85ad",
   "metadata": {},
   "outputs": [
    {
     "data": {
      "text/html": [
       "<div>\n",
       "<style scoped>\n",
       "    .dataframe tbody tr th:only-of-type {\n",
       "        vertical-align: middle;\n",
       "    }\n",
       "\n",
       "    .dataframe tbody tr th {\n",
       "        vertical-align: top;\n",
       "    }\n",
       "\n",
       "    .dataframe thead th {\n",
       "        text-align: right;\n",
       "    }\n",
       "</style>\n",
       "<table border=\"1\" class=\"dataframe\">\n",
       "  <thead>\n",
       "    <tr style=\"text-align: right;\">\n",
       "      <th></th>\n",
       "      <th>mpg</th>\n",
       "      <th>cylinders</th>\n",
       "      <th>displacement</th>\n",
       "      <th>horsepower</th>\n",
       "      <th>weight</th>\n",
       "      <th>acceleration</th>\n",
       "      <th>model year</th>\n",
       "      <th>car name</th>\n",
       "      <th>CAR Number</th>\n",
       "    </tr>\n",
       "  </thead>\n",
       "  <tbody>\n",
       "    <tr>\n",
       "      <th>count</th>\n",
       "      <td>96.000000</td>\n",
       "      <td>96.000000</td>\n",
       "      <td>96.000000</td>\n",
       "      <td>96.000000</td>\n",
       "      <td>96.000000</td>\n",
       "      <td>96.000000</td>\n",
       "      <td>96.000000</td>\n",
       "      <td>96</td>\n",
       "      <td>89</td>\n",
       "    </tr>\n",
       "    <tr>\n",
       "      <th>unique</th>\n",
       "      <td>NaN</td>\n",
       "      <td>NaN</td>\n",
       "      <td>NaN</td>\n",
       "      <td>NaN</td>\n",
       "      <td>NaN</td>\n",
       "      <td>NaN</td>\n",
       "      <td>NaN</td>\n",
       "      <td>85</td>\n",
       "      <td>89</td>\n",
       "    </tr>\n",
       "    <tr>\n",
       "      <th>top</th>\n",
       "      <td>NaN</td>\n",
       "      <td>NaN</td>\n",
       "      <td>NaN</td>\n",
       "      <td>NaN</td>\n",
       "      <td>NaN</td>\n",
       "      <td>NaN</td>\n",
       "      <td>NaN</td>\n",
       "      <td>plymouth fury iii</td>\n",
       "      <td>L6V 043</td>\n",
       "    </tr>\n",
       "    <tr>\n",
       "      <th>freq</th>\n",
       "      <td>NaN</td>\n",
       "      <td>NaN</td>\n",
       "      <td>NaN</td>\n",
       "      <td>NaN</td>\n",
       "      <td>NaN</td>\n",
       "      <td>NaN</td>\n",
       "      <td>NaN</td>\n",
       "      <td>3</td>\n",
       "      <td>1</td>\n",
       "    </tr>\n",
       "    <tr>\n",
       "      <th>mean</th>\n",
       "      <td>18.458333</td>\n",
       "      <td>6.302083</td>\n",
       "      <td>253.390625</td>\n",
       "      <td>130.885417</td>\n",
       "      <td>3338.916667</td>\n",
       "      <td>14.073893</td>\n",
       "      <td>71.270833</td>\n",
       "      <td>NaN</td>\n",
       "      <td>NaN</td>\n",
       "    </tr>\n",
       "    <tr>\n",
       "      <th>std</th>\n",
       "      <td>5.918600</td>\n",
       "      <td>1.881320</td>\n",
       "      <td>125.365932</td>\n",
       "      <td>48.047317</td>\n",
       "      <td>983.267321</td>\n",
       "      <td>2.990300</td>\n",
       "      <td>1.030883</td>\n",
       "      <td>NaN</td>\n",
       "      <td>NaN</td>\n",
       "    </tr>\n",
       "    <tr>\n",
       "      <th>min</th>\n",
       "      <td>9.000000</td>\n",
       "      <td>3.000000</td>\n",
       "      <td>70.000000</td>\n",
       "      <td>46.000000</td>\n",
       "      <td>1613.000000</td>\n",
       "      <td>8.000000</td>\n",
       "      <td>70.000000</td>\n",
       "      <td>NaN</td>\n",
       "      <td>NaN</td>\n",
       "    </tr>\n",
       "    <tr>\n",
       "      <th>25%</th>\n",
       "      <td>14.000000</td>\n",
       "      <td>4.000000</td>\n",
       "      <td>119.000000</td>\n",
       "      <td>89.500000</td>\n",
       "      <td>2361.500000</td>\n",
       "      <td>12.000000</td>\n",
       "      <td>70.000000</td>\n",
       "      <td>NaN</td>\n",
       "      <td>NaN</td>\n",
       "    </tr>\n",
       "    <tr>\n",
       "      <th>50%</th>\n",
       "      <td>17.000000</td>\n",
       "      <td>8.000000</td>\n",
       "      <td>302.000000</td>\n",
       "      <td>133.500000</td>\n",
       "      <td>3434.500000</td>\n",
       "      <td>14.000000</td>\n",
       "      <td>71.000000</td>\n",
       "      <td>NaN</td>\n",
       "      <td>NaN</td>\n",
       "    </tr>\n",
       "    <tr>\n",
       "      <th>75%</th>\n",
       "      <td>23.250000</td>\n",
       "      <td>8.000000</td>\n",
       "      <td>350.250000</td>\n",
       "      <td>165.000000</td>\n",
       "      <td>4246.250000</td>\n",
       "      <td>15.500000</td>\n",
       "      <td>72.000000</td>\n",
       "      <td>NaN</td>\n",
       "      <td>NaN</td>\n",
       "    </tr>\n",
       "    <tr>\n",
       "      <th>max</th>\n",
       "      <td>35.000000</td>\n",
       "      <td>8.000000</td>\n",
       "      <td>455.000000</td>\n",
       "      <td>225.000000</td>\n",
       "      <td>5140.000000</td>\n",
       "      <td>23.500000</td>\n",
       "      <td>73.000000</td>\n",
       "      <td>NaN</td>\n",
       "      <td>NaN</td>\n",
       "    </tr>\n",
       "  </tbody>\n",
       "</table>\n",
       "</div>"
      ],
      "text/plain": [
       "              mpg  cylinders  displacement  horsepower       weight  \\\n",
       "count   96.000000  96.000000     96.000000   96.000000    96.000000   \n",
       "unique        NaN        NaN           NaN         NaN          NaN   \n",
       "top           NaN        NaN           NaN         NaN          NaN   \n",
       "freq          NaN        NaN           NaN         NaN          NaN   \n",
       "mean    18.458333   6.302083    253.390625  130.885417  3338.916667   \n",
       "std      5.918600   1.881320    125.365932   48.047317   983.267321   \n",
       "min      9.000000   3.000000     70.000000   46.000000  1613.000000   \n",
       "25%     14.000000   4.000000    119.000000   89.500000  2361.500000   \n",
       "50%     17.000000   8.000000    302.000000  133.500000  3434.500000   \n",
       "75%     23.250000   8.000000    350.250000  165.000000  4246.250000   \n",
       "max     35.000000   8.000000    455.000000  225.000000  5140.000000   \n",
       "\n",
       "        acceleration  model year           car name CAR Number  \n",
       "count      96.000000   96.000000                 96         89  \n",
       "unique           NaN         NaN                 85         89  \n",
       "top              NaN         NaN  plymouth fury iii    L6V 043  \n",
       "freq             NaN         NaN                  3          1  \n",
       "mean       14.073893   71.270833                NaN        NaN  \n",
       "std         2.990300    1.030883                NaN        NaN  \n",
       "min         8.000000   70.000000                NaN        NaN  \n",
       "25%        12.000000   70.000000                NaN        NaN  \n",
       "50%        14.000000   71.000000                NaN        NaN  \n",
       "75%        15.500000   72.000000                NaN        NaN  \n",
       "max        23.500000   73.000000                NaN        NaN  "
      ]
     },
     "execution_count": 505,
     "metadata": {},
     "output_type": "execute_result"
    }
   ],
   "source": [
    "df.describe(include='all')"
   ]
  },
  {
   "cell_type": "code",
   "execution_count": 506,
   "id": "08194e8d",
   "metadata": {},
   "outputs": [
    {
     "data": {
      "text/plain": [
       "'pontiac catalina'"
      ]
     },
     "execution_count": 506,
     "metadata": {},
     "output_type": "execute_result"
    }
   ],
   "source": [
    "max_val_idx = df['horsepower'].idxmax()\n",
    "df.loc[max_val_idx, 'car name']"
   ]
  },
  {
   "cell_type": "markdown",
   "id": "bdcc78fb",
   "metadata": {},
   "source": [
    "### 5. Change mpg to L/100km"
   ]
  },
  {
   "cell_type": "code",
   "execution_count": 507,
   "id": "ee1449f9",
   "metadata": {},
   "outputs": [],
   "source": [
    "df['mpg'] = 235.215/df['mpg']"
   ]
  },
  {
   "cell_type": "code",
   "execution_count": 508,
   "id": "b571a144",
   "metadata": {},
   "outputs": [],
   "source": [
    "df.rename(columns={'mpg': 'L/100km'}, inplace=True)"
   ]
  },
  {
   "cell_type": "code",
   "execution_count": 509,
   "id": "9b40d672",
   "metadata": {},
   "outputs": [
    {
     "data": {
      "text/html": [
       "<div>\n",
       "<style scoped>\n",
       "    .dataframe tbody tr th:only-of-type {\n",
       "        vertical-align: middle;\n",
       "    }\n",
       "\n",
       "    .dataframe tbody tr th {\n",
       "        vertical-align: top;\n",
       "    }\n",
       "\n",
       "    .dataframe thead th {\n",
       "        text-align: right;\n",
       "    }\n",
       "</style>\n",
       "<table border=\"1\" class=\"dataframe\">\n",
       "  <thead>\n",
       "    <tr style=\"text-align: right;\">\n",
       "      <th></th>\n",
       "      <th>L/100km</th>\n",
       "      <th>cylinders</th>\n",
       "      <th>displacement</th>\n",
       "      <th>horsepower</th>\n",
       "      <th>weight</th>\n",
       "      <th>acceleration</th>\n",
       "      <th>model year</th>\n",
       "      <th>car name</th>\n",
       "      <th>CAR Number</th>\n",
       "    </tr>\n",
       "  </thead>\n",
       "  <tbody>\n",
       "    <tr>\n",
       "      <th>0</th>\n",
       "      <td>13.067500</td>\n",
       "      <td>8</td>\n",
       "      <td>307.0</td>\n",
       "      <td>130</td>\n",
       "      <td>3504</td>\n",
       "      <td>12.0</td>\n",
       "      <td>70.0</td>\n",
       "      <td>chevrolet chevelle malibu</td>\n",
       "      <td>L6V 043</td>\n",
       "    </tr>\n",
       "    <tr>\n",
       "      <th>1</th>\n",
       "      <td>15.681000</td>\n",
       "      <td>8</td>\n",
       "      <td>350.0</td>\n",
       "      <td>165</td>\n",
       "      <td>3693</td>\n",
       "      <td>11.5</td>\n",
       "      <td>70.0</td>\n",
       "      <td>buick skylark 320</td>\n",
       "      <td>RTY079</td>\n",
       "    </tr>\n",
       "    <tr>\n",
       "      <th>2</th>\n",
       "      <td>13.067500</td>\n",
       "      <td>8</td>\n",
       "      <td>318.0</td>\n",
       "      <td>150</td>\n",
       "      <td>3436</td>\n",
       "      <td>11.0</td>\n",
       "      <td>70.0</td>\n",
       "      <td>plymouth satellite</td>\n",
       "      <td>MTP600</td>\n",
       "    </tr>\n",
       "    <tr>\n",
       "      <th>3</th>\n",
       "      <td>14.700938</td>\n",
       "      <td>8</td>\n",
       "      <td>304.0</td>\n",
       "      <td>150</td>\n",
       "      <td>3433</td>\n",
       "      <td>12.0</td>\n",
       "      <td>70.0</td>\n",
       "      <td>amc rebel sst</td>\n",
       "      <td>MNJ000</td>\n",
       "    </tr>\n",
       "    <tr>\n",
       "      <th>4</th>\n",
       "      <td>13.836176</td>\n",
       "      <td>8</td>\n",
       "      <td>302.0</td>\n",
       "      <td>140</td>\n",
       "      <td>3449</td>\n",
       "      <td>10.5</td>\n",
       "      <td>70.0</td>\n",
       "      <td>ford torino</td>\n",
       "      <td>JEETMEET</td>\n",
       "    </tr>\n",
       "  </tbody>\n",
       "</table>\n",
       "</div>"
      ],
      "text/plain": [
       "     L/100km  cylinders  displacement  horsepower  weight  acceleration  \\\n",
       "0  13.067500          8         307.0         130    3504          12.0   \n",
       "1  15.681000          8         350.0         165    3693          11.5   \n",
       "2  13.067500          8         318.0         150    3436          11.0   \n",
       "3  14.700938          8         304.0         150    3433          12.0   \n",
       "4  13.836176          8         302.0         140    3449          10.5   \n",
       "\n",
       "   model year                   car name CAR Number  \n",
       "0        70.0  chevrolet chevelle malibu    L6V 043  \n",
       "1        70.0          buick skylark 320     RTY079  \n",
       "2        70.0         plymouth satellite     MTP600  \n",
       "3        70.0              amc rebel sst     MNJ000  \n",
       "4        70.0                ford torino   JEETMEET  "
      ]
     },
     "execution_count": 509,
     "metadata": {},
     "output_type": "execute_result"
    }
   ],
   "source": [
    "df.head()"
   ]
  },
  {
   "cell_type": "markdown",
   "id": "3e1e5c69",
   "metadata": {},
   "source": [
    "### 6. Normalize weight b/w 0 to 1"
   ]
  },
  {
   "cell_type": "code",
   "execution_count": 510,
   "id": "d5f94fec",
   "metadata": {},
   "outputs": [],
   "source": [
    "df['weight'] /= df['weight'].max()"
   ]
  },
  {
   "cell_type": "markdown",
   "id": "22cffa07",
   "metadata": {},
   "source": [
    "### 7. Bin horsepower into three bins"
   ]
  },
  {
   "cell_type": "code",
   "execution_count": 511,
   "id": "42e86db1",
   "metadata": {},
   "outputs": [
    {
     "data": {
      "text/plain": [
       "array([ 46.        , 105.66666667, 165.33333333, 225.        ])"
      ]
     },
     "execution_count": 511,
     "metadata": {},
     "output_type": "execute_result"
    }
   ],
   "source": [
    "bins = np.linspace(df['horsepower'].min(),\n",
    "                   df['horsepower'].max(),\n",
    "                   4)\n",
    "labels = ['little horsepower', 'medium horsepower', 'high horsepower']\n",
    "bins"
   ]
  },
  {
   "cell_type": "code",
   "execution_count": 512,
   "id": "107f526d",
   "metadata": {},
   "outputs": [],
   "source": [
    "binned_hp = pd.cut(df['horsepower'], bins, labels=labels, include_lowest=True)"
   ]
  },
  {
   "cell_type": "code",
   "execution_count": 513,
   "id": "d87dcd06",
   "metadata": {},
   "outputs": [],
   "source": [
    "df['binned horsepower'] = binned_hp"
   ]
  },
  {
   "cell_type": "code",
   "execution_count": 514,
   "id": "a8ae2d17",
   "metadata": {},
   "outputs": [
    {
     "data": {
      "text/html": [
       "<div>\n",
       "<style scoped>\n",
       "    .dataframe tbody tr th:only-of-type {\n",
       "        vertical-align: middle;\n",
       "    }\n",
       "\n",
       "    .dataframe tbody tr th {\n",
       "        vertical-align: top;\n",
       "    }\n",
       "\n",
       "    .dataframe thead th {\n",
       "        text-align: right;\n",
       "    }\n",
       "</style>\n",
       "<table border=\"1\" class=\"dataframe\">\n",
       "  <thead>\n",
       "    <tr style=\"text-align: right;\">\n",
       "      <th></th>\n",
       "      <th>L/100km</th>\n",
       "      <th>cylinders</th>\n",
       "      <th>displacement</th>\n",
       "      <th>horsepower</th>\n",
       "      <th>weight</th>\n",
       "      <th>acceleration</th>\n",
       "      <th>model year</th>\n",
       "      <th>car name</th>\n",
       "      <th>CAR Number</th>\n",
       "      <th>binned horsepower</th>\n",
       "    </tr>\n",
       "  </thead>\n",
       "  <tbody>\n",
       "    <tr>\n",
       "      <th>0</th>\n",
       "      <td>13.067500</td>\n",
       "      <td>8</td>\n",
       "      <td>307.0</td>\n",
       "      <td>130</td>\n",
       "      <td>0.681712</td>\n",
       "      <td>12.0</td>\n",
       "      <td>70.0</td>\n",
       "      <td>chevrolet chevelle malibu</td>\n",
       "      <td>L6V 043</td>\n",
       "      <td>medium horsepower</td>\n",
       "    </tr>\n",
       "    <tr>\n",
       "      <th>1</th>\n",
       "      <td>15.681000</td>\n",
       "      <td>8</td>\n",
       "      <td>350.0</td>\n",
       "      <td>165</td>\n",
       "      <td>0.718482</td>\n",
       "      <td>11.5</td>\n",
       "      <td>70.0</td>\n",
       "      <td>buick skylark 320</td>\n",
       "      <td>RTY079</td>\n",
       "      <td>medium horsepower</td>\n",
       "    </tr>\n",
       "    <tr>\n",
       "      <th>2</th>\n",
       "      <td>13.067500</td>\n",
       "      <td>8</td>\n",
       "      <td>318.0</td>\n",
       "      <td>150</td>\n",
       "      <td>0.668482</td>\n",
       "      <td>11.0</td>\n",
       "      <td>70.0</td>\n",
       "      <td>plymouth satellite</td>\n",
       "      <td>MTP600</td>\n",
       "      <td>medium horsepower</td>\n",
       "    </tr>\n",
       "    <tr>\n",
       "      <th>3</th>\n",
       "      <td>14.700938</td>\n",
       "      <td>8</td>\n",
       "      <td>304.0</td>\n",
       "      <td>150</td>\n",
       "      <td>0.667899</td>\n",
       "      <td>12.0</td>\n",
       "      <td>70.0</td>\n",
       "      <td>amc rebel sst</td>\n",
       "      <td>MNJ000</td>\n",
       "      <td>medium horsepower</td>\n",
       "    </tr>\n",
       "    <tr>\n",
       "      <th>4</th>\n",
       "      <td>13.836176</td>\n",
       "      <td>8</td>\n",
       "      <td>302.0</td>\n",
       "      <td>140</td>\n",
       "      <td>0.671012</td>\n",
       "      <td>10.5</td>\n",
       "      <td>70.0</td>\n",
       "      <td>ford torino</td>\n",
       "      <td>JEETMEET</td>\n",
       "      <td>medium horsepower</td>\n",
       "    </tr>\n",
       "  </tbody>\n",
       "</table>\n",
       "</div>"
      ],
      "text/plain": [
       "     L/100km  cylinders  displacement  horsepower    weight  acceleration  \\\n",
       "0  13.067500          8         307.0         130  0.681712          12.0   \n",
       "1  15.681000          8         350.0         165  0.718482          11.5   \n",
       "2  13.067500          8         318.0         150  0.668482          11.0   \n",
       "3  14.700938          8         304.0         150  0.667899          12.0   \n",
       "4  13.836176          8         302.0         140  0.671012          10.5   \n",
       "\n",
       "   model year                   car name CAR Number  binned horsepower  \n",
       "0        70.0  chevrolet chevelle malibu    L6V 043  medium horsepower  \n",
       "1        70.0          buick skylark 320     RTY079  medium horsepower  \n",
       "2        70.0         plymouth satellite     MTP600  medium horsepower  \n",
       "3        70.0              amc rebel sst     MNJ000  medium horsepower  \n",
       "4        70.0                ford torino   JEETMEET  medium horsepower  "
      ]
     },
     "execution_count": 514,
     "metadata": {},
     "output_type": "execute_result"
    }
   ],
   "source": [
    "df.head()"
   ]
  },
  {
   "cell_type": "code",
   "execution_count": 515,
   "id": "ae6f482e",
   "metadata": {},
   "outputs": [
    {
     "data": {
      "text/plain": [
       "(array([30.,  0.,  0.,  0.,  0., 23.,  0.,  0.,  0., 43.]),\n",
       " array([0. , 0.2, 0.4, 0.6, 0.8, 1. , 1.2, 1.4, 1.6, 1.8, 2. ]),\n",
       " <BarContainer object of 10 artists>)"
      ]
     },
     "execution_count": 515,
     "metadata": {},
     "output_type": "execute_result"
    },
    {
     "data": {
      "image/png": "[encoded data removed]",
      "text/plain": [
       "<Figure size 640x480 with 1 Axes>"
      ]
     },
     "metadata": {},
     "output_type": "display_data"
    }
   ],
   "source": [
    "plt.hist(df['binned horsepower'])"
   ]
  },
  {
   "cell_type": "code",
   "execution_count": 516,
   "id": "0c324222",
   "metadata": {},
   "outputs": [
    {
     "data": {
      "text/plain": [
       "<Axes: ylabel='binned horsepower'>"
      ]
     },
     "execution_count": 516,
     "metadata": {},
     "output_type": "execute_result"
    },
    {
     "data": {
      "image/png": "[encoded data removed]",
      "text/plain": [
       "<Figure size 640x480 with 1 Axes>"
      ]
     },
     "metadata": {},
     "output_type": "display_data"
    }
   ],
   "source": [
    "sb.violinplot(df['binned horsepower'])"
   ]
  },
  {
   "cell_type": "code",
   "execution_count": null,
   "id": "5c110720",
   "metadata": {},
   "outputs": [],
   "source": []
  },
  {
   "cell_type": "code",
   "execution_count": 517,
   "id": "31708f28",
   "metadata": {},
   "outputs": [],
   "source": [
    "# Other plots, for fun"
   ]
  },
  {
   "cell_type": "code",
   "execution_count": 518,
   "id": "9c1f485a",
   "metadata": {},
   "outputs": [
    {
     "data": {
      "text/plain": [
       "{'whiskers': [<matplotlib.lines.Line2D at 0x22c5ed926d0>,\n",
       "  <matplotlib.lines.Line2D at 0x22c5ef89710>],\n",
       " 'caps': [<matplotlib.lines.Line2D at 0x22c5ef8a310>,\n",
       "  <matplotlib.lines.Line2D at 0x22c5ef8ac90>],\n",
       " 'boxes': [<matplotlib.lines.Line2D at 0x22c5ef6b150>],\n",
       " 'medians': [<matplotlib.lines.Line2D at 0x22c5ef8b590>],\n",
       " 'fliers': [<matplotlib.lines.Line2D at 0x22c5ee0a310>],\n",
       " 'means': []}"
      ]
     },
     "execution_count": 518,
     "metadata": {},
     "output_type": "execute_result"
    },
    {
     "data": {
      "image/png": "[encoded data removed]",
      "text/plain": [
       "<Figure size 640x480 with 1 Axes>"
      ]
     },
     "metadata": {},
     "output_type": "display_data"
    }
   ],
   "source": [
    "plt.boxplot(df['horsepower'])"
   ]
  },
  {
   "cell_type": "code",
   "execution_count": 519,
   "id": "7989852b",
   "metadata": {},
   "outputs": [
    {
     "data": {
      "text/plain": [
       "{'bodies': [<matplotlib.collections.PolyCollection at 0x22c5efc8d90>],\n",
       " 'cmaxes': <matplotlib.collections.LineCollection at 0x22c5eff2e50>,\n",
       " 'cmins': <matplotlib.collections.LineCollection at 0x22c5effc510>,\n",
       " 'cbars': <matplotlib.collections.LineCollection at 0x22c5effd1d0>}"
      ]
     },
     "execution_count": 519,
     "metadata": {},
     "output_type": "execute_result"
    },
    {
     "data": {
      "image/png": "[encoded data removed]",
      "text/plain": [
       "<Figure size 640x480 with 1 Axes>"
      ]
     },
     "metadata": {},
     "output_type": "display_data"
    }
   ],
   "source": [
    "plt.violinplot(df['horsepower'])"
   ]
  },
  {
   "cell_type": "markdown",
   "id": "76cfdf48",
   "metadata": {},
   "source": [
    "### 12. Detect outliers using Z-score and remove them"
   ]
  },
  {
   "cell_type": "code",
   "execution_count": 520,
   "id": "1066ec06",
   "metadata": {},
   "outputs": [],
   "source": [
    "# Consider a z-score < -3 or > 3 to mean that an entry is an outlier"
   ]
  },
  {
   "cell_type": "code",
   "execution_count": 521,
   "id": "35b12d63",
   "metadata": {},
   "outputs": [],
   "source": [
    "# Retrieve all column names whose values are numbers\n",
    "num_cols_names = df.select_dtypes(include=[np.number]).columns"
   ]
  },
  {
   "cell_type": "code",
   "execution_count": 522,
   "id": "514a4b6a",
   "metadata": {},
   "outputs": [],
   "source": [
    "z_score_fn = lambda x: (x-x.mean())/x.std()"
   ]
  },
  {
   "cell_type": "code",
   "execution_count": 534,
   "id": "2f0a8da0",
   "metadata": {
    "scrolled": true
   },
   "outputs": [
    {
     "data": {
      "text/html": [
       "<div>\n",
       "<style scoped>\n",
       "    .dataframe tbody tr th:only-of-type {\n",
       "        vertical-align: middle;\n",
       "    }\n",
       "\n",
       "    .dataframe tbody tr th {\n",
       "        vertical-align: top;\n",
       "    }\n",
       "\n",
       "    .dataframe thead th {\n",
       "        text-align: right;\n",
       "    }\n",
       "</style>\n",
       "<table border=\"1\" class=\"dataframe\">\n",
       "  <thead>\n",
       "    <tr style=\"text-align: right;\">\n",
       "      <th></th>\n",
       "      <th>L/100km</th>\n",
       "      <th>cylinders</th>\n",
       "      <th>displacement</th>\n",
       "      <th>horsepower</th>\n",
       "      <th>weight</th>\n",
       "      <th>acceleration</th>\n",
       "      <th>model year</th>\n",
       "    </tr>\n",
       "  </thead>\n",
       "  <tbody>\n",
       "    <tr>\n",
       "      <th>0</th>\n",
       "      <td>-0.227067</td>\n",
       "      <td>0.902514</td>\n",
       "      <td>0.427623</td>\n",
       "      <td>-0.018428</td>\n",
       "      <td>0.167893</td>\n",
       "      <td>-0.693540</td>\n",
       "      <td>-1.232762</td>\n",
       "    </tr>\n",
       "    <tr>\n",
       "      <th>1</th>\n",
       "      <td>0.387525</td>\n",
       "      <td>0.902514</td>\n",
       "      <td>0.770619</td>\n",
       "      <td>0.710021</td>\n",
       "      <td>0.360109</td>\n",
       "      <td>-0.860747</td>\n",
       "      <td>-1.232762</td>\n",
       "    </tr>\n",
       "    <tr>\n",
       "      <th>2</th>\n",
       "      <td>-0.227067</td>\n",
       "      <td>0.902514</td>\n",
       "      <td>0.515366</td>\n",
       "      <td>0.397828</td>\n",
       "      <td>0.098735</td>\n",
       "      <td>-1.027955</td>\n",
       "      <td>-1.232762</td>\n",
       "    </tr>\n",
       "    <tr>\n",
       "      <th>3</th>\n",
       "      <td>0.157053</td>\n",
       "      <td>0.902514</td>\n",
       "      <td>0.403693</td>\n",
       "      <td>0.397828</td>\n",
       "      <td>0.095684</td>\n",
       "      <td>-0.693540</td>\n",
       "      <td>-1.232762</td>\n",
       "    </tr>\n",
       "    <tr>\n",
       "      <th>4</th>\n",
       "      <td>-0.046305</td>\n",
       "      <td>0.902514</td>\n",
       "      <td>0.387740</td>\n",
       "      <td>0.189700</td>\n",
       "      <td>0.111957</td>\n",
       "      <td>-1.195162</td>\n",
       "      <td>-1.232762</td>\n",
       "    </tr>\n",
       "    <tr>\n",
       "      <th>...</th>\n",
       "      <td>...</td>\n",
       "      <td>...</td>\n",
       "      <td>...</td>\n",
       "      <td>...</td>\n",
       "      <td>...</td>\n",
       "      <td>...</td>\n",
       "      <td>...</td>\n",
       "    </tr>\n",
       "    <tr>\n",
       "      <th>91</th>\n",
       "      <td>0.650922</td>\n",
       "      <td>0.902514</td>\n",
       "      <td>0.515366</td>\n",
       "      <td>0.397828</td>\n",
       "      <td>0.913366</td>\n",
       "      <td>0.142496</td>\n",
       "      <td>1.677365</td>\n",
       "    </tr>\n",
       "    <tr>\n",
       "      <th>92</th>\n",
       "      <td>0.954841</td>\n",
       "      <td>0.902514</td>\n",
       "      <td>1.488517</td>\n",
       "      <td>1.750661</td>\n",
       "      <td>1.419841</td>\n",
       "      <td>-1.027955</td>\n",
       "      <td>1.677365</td>\n",
       "    </tr>\n",
       "    <tr>\n",
       "      <th>93</th>\n",
       "      <td>1.309414</td>\n",
       "      <td>0.902514</td>\n",
       "      <td>1.608167</td>\n",
       "      <td>1.958790</td>\n",
       "      <td>1.639517</td>\n",
       "      <td>-1.027955</td>\n",
       "      <td>1.677365</td>\n",
       "    </tr>\n",
       "    <tr>\n",
       "      <th>94</th>\n",
       "      <td>0.954841</td>\n",
       "      <td>0.902514</td>\n",
       "      <td>0.850386</td>\n",
       "      <td>0.918149</td>\n",
       "      <td>0.490287</td>\n",
       "      <td>-1.027955</td>\n",
       "      <td>1.677365</td>\n",
       "    </tr>\n",
       "    <tr>\n",
       "      <th>95</th>\n",
       "      <td>-0.227067</td>\n",
       "      <td>-0.160570</td>\n",
       "      <td>-0.226462</td>\n",
       "      <td>-0.538748</td>\n",
       "      <td>-0.221625</td>\n",
       "      <td>0.811325</td>\n",
       "      <td>1.677365</td>\n",
       "    </tr>\n",
       "  </tbody>\n",
       "</table>\n",
       "<p>96 rows × 7 columns</p>\n",
       "</div>"
      ],
      "text/plain": [
       "     L/100km  cylinders  displacement  horsepower    weight  acceleration  \\\n",
       "0  -0.227067   0.902514      0.427623   -0.018428  0.167893     -0.693540   \n",
       "1   0.387525   0.902514      0.770619    0.710021  0.360109     -0.860747   \n",
       "2  -0.227067   0.902514      0.515366    0.397828  0.098735     -1.027955   \n",
       "3   0.157053   0.902514      0.403693    0.397828  0.095684     -0.693540   \n",
       "4  -0.046305   0.902514      0.387740    0.189700  0.111957     -1.195162   \n",
       "..       ...        ...           ...         ...       ...           ...   \n",
       "91  0.650922   0.902514      0.515366    0.397828  0.913366      0.142496   \n",
       "92  0.954841   0.902514      1.488517    1.750661  1.419841     -1.027955   \n",
       "93  1.309414   0.902514      1.608167    1.958790  1.639517     -1.027955   \n",
       "94  0.954841   0.902514      0.850386    0.918149  0.490287     -1.027955   \n",
       "95 -0.227067  -0.160570     -0.226462   -0.538748 -0.221625      0.811325   \n",
       "\n",
       "    model year  \n",
       "0    -1.232762  \n",
       "1    -1.232762  \n",
       "2    -1.232762  \n",
       "3    -1.232762  \n",
       "4    -1.232762  \n",
       "..         ...  \n",
       "91    1.677365  \n",
       "92    1.677365  \n",
       "93    1.677365  \n",
       "94    1.677365  \n",
       "95    1.677365  \n",
       "\n",
       "[96 rows x 7 columns]"
      ]
     },
     "execution_count": 534,
     "metadata": {},
     "output_type": "execute_result"
    }
   ],
   "source": [
    "z_scores_df = df[num_cols_names].apply(z_score_fn)\n",
    "z_scores_df"
   ]
  },
  {
   "cell_type": "code",
   "execution_count": 535,
   "id": "39495089",
   "metadata": {},
   "outputs": [],
   "source": [
    "outliers_mask = ((z_scores_df > 3) | (z_scores_df < -3)).any(axis=1)"
   ]
  },
  {
   "cell_type": "code",
   "execution_count": 536,
   "id": "90f864f6",
   "metadata": {},
   "outputs": [],
   "source": [
    "outliers = df[outliers_mask]"
   ]
  },
  {
   "cell_type": "code",
   "execution_count": 537,
   "id": "5a9369dd",
   "metadata": {},
   "outputs": [],
   "source": [
    "df.drop(index=outliers.index, inplace=True)"
   ]
  },
  {
   "cell_type": "markdown",
   "id": "4816bbf4",
   "metadata": {},
   "source": [
    "### Final: Save the data set"
   ]
  },
  {
   "cell_type": "code",
   "execution_count": 538,
   "id": "9d8a9716",
   "metadata": {},
   "outputs": [],
   "source": [
    "df.to_excel('./auto-mpg-clean.xlsx', index=False)"
   ]
  },
  {
   "cell_type": "code",
   "execution_count": null,
   "id": "8b01cc3c",
   "metadata": {},
   "outputs": [],
   "source": []
  }
 ],
 "metadata": {
  "kernelspec": {
   "display_name": "Python 3 (ipykernel)",
   "language": "python",
   "name": "python3"
  },
  "language_info": {
   "codemirror_mode": {
    "name": "ipython",
    "version": 3
   },
   "file_extension": ".py",
   "mimetype": "text/x-python",
   "name": "python",
   "nbconvert_exporter": "python",
   "pygments_lexer": "ipython3",
   "version": "3.11.2"
  }
 },
 "nbformat": 4,
 "nbformat_minor": 5
}
