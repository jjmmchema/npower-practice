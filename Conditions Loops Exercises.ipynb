{
 "cells": [
  {
   "cell_type": "markdown",
   "metadata": {},
   "source": [
    "# Conditions & Loops Exercises"
   ]
  },
  {
   "cell_type": "code",
   "execution_count": 2,
   "metadata": {},
   "outputs": [],
   "source": [
    "#Q1 Given two integer numbers. \n",
    "#If any of the numbers are greater than 50 return their product,\n",
    "#else return their sum\n"
   ]
  },
  {
   "cell_type": "code",
   "execution_count": 15,
   "metadata": {},
   "outputs": [
    {
     "name": "stdout",
     "output_type": "stream",
     "text": [
      "Enter number 1: 50\n",
      "Enter number 2: 10\n",
      "60\n"
     ]
    }
   ],
   "source": [
    "\n",
    "number1 = int(input('Enter number 1: '))\n",
    "number2 = int(input('Enter number 2: '))\n",
    "\n",
    "if number1 > 50 or number2 > 50:\n",
    "    print(number1 * number2)\n",
    "else:\n",
    "    print(number1 + number2)\n",
    "    "
   ]
  },
  {
   "cell_type": "code",
   "execution_count": 20,
   "metadata": {},
   "outputs": [
    {
     "name": "stdout",
     "output_type": "stream",
     "text": [
      "Same\n"
     ]
    }
   ],
   "source": [
    "#Q2 Given a list of numbers, \n",
    "#return True if first and last number of a list is same\n",
    "\n",
    "list_1 = [ 1, 2, 5, 4, 1]\n",
    "\n",
    "if list_1[0] == list_1[-1]:\n",
    "    print(\"Same\")\n",
    "else:\n",
    "    print(\"Different\")"
   ]
  },
  {
   "cell_type": "code",
   "execution_count": 24,
   "metadata": {},
   "outputs": [
    {
     "name": "stdout",
     "output_type": "stream",
     "text": [
      "1\n",
      "3\n",
      "5\n",
      "7\n",
      "9\n",
      "11\n",
      "13\n",
      "15\n",
      "17\n",
      "19\n"
     ]
    }
   ],
   "source": [
    "#Q3 Given a range of the first 10 numbers[1:10], \n",
    "#Iterate from the start number to the end number, \n",
    "#and In each iteration print the sum of the current number and previous number\n",
    "\n",
    "for i in range(1, 11):\n",
    "    print(i + i - 1)"
   ]
  },
  {
   "cell_type": "code",
   "execution_count": 25,
   "metadata": {},
   "outputs": [
    {
     "data": {
      "text/plain": [
       "'NoeCnd'"
      ]
     },
     "execution_count": 25,
     "metadata": {},
     "output_type": "execute_result"
    }
   ],
   "source": [
    "#Q4 Given a string name, \n",
    "#display only those characters which are present at an even index number\n",
    "name = \"NPowerCanada\"\n",
    "name[::2]"
   ]
  },
  {
   "cell_type": "code",
   "execution_count": 28,
   "metadata": {},
   "outputs": [
    {
     "data": {
      "text/plain": [
       "'Course'"
      ]
     },
     "execution_count": 28,
     "metadata": {},
     "output_type": "execute_result"
    }
   ],
   "source": [
    "#Q5 Given a string oldString and an integer number n, \n",
    "#remove characters from a string starting from zero up to n \n",
    "#and return a newString\n",
    "oldString=\"PythonCourse\"\n",
    "n = 6\n",
    "newString = oldString[n:]\n",
    "newString"
   ]
  },
  {
   "cell_type": "code",
   "execution_count": 30,
   "metadata": {},
   "outputs": [
    {
     "name": "stdout",
     "output_type": "stream",
     "text": [
      "*\n",
      "**\n",
      "***\n",
      "****\n"
     ]
    }
   ],
   "source": [
    "#Q6 Print the following pattern\n",
    "\n",
    "#*\n",
    "#**\n",
    "#***\n",
    "#****\n",
    "\n",
    "for n in range(1, 5):\n",
    "    print('*' * n)"
   ]
  },
  {
   "cell_type": "code",
   "execution_count": 9,
   "metadata": {},
   "outputs": [
    {
     "data": {
      "text/plain": [
       "[60, 50, 40, 15, 50, 70, 90]"
      ]
     },
     "execution_count": 9,
     "metadata": {},
     "output_type": "execute_result"
    }
   ],
   "source": [
    "#Q7 Reverse the following list using for loop\n",
    "list1 = [90, 70, 50, 15, 40, 50, 60]\n",
    "\n",
    "for i in range(len(list1)//2):\n",
    "    temp = list1[i]\n",
    "    list1[i] = list1[-(i+1)]\n",
    "    list1[-(i+1)] = temp\n",
    "    \n",
    "list1"
   ]
  },
  {
   "cell_type": "code",
   "execution_count": 32,
   "metadata": {},
   "outputs": [
    {
     "name": "stdout",
     "output_type": "stream",
     "text": [
      "-10\n",
      "-9\n",
      "-8\n",
      "-7\n",
      "-6\n",
      "-5\n",
      "-4\n",
      "-3\n",
      "-2\n",
      "-1\n"
     ]
    }
   ],
   "source": [
    "#Q8 Display numbers from -10 to -1 using for loop \n",
    "#[hint use range method]\n",
    "\n",
    "for i in range(-10, 0):\n",
    "    print(i)"
   ]
  },
  {
   "cell_type": "code",
   "execution_count": null,
   "metadata": {},
   "outputs": [],
   "source": []
  }
 ],
 "metadata": {
  "kernelspec": {
   "display_name": "Python 3 (ipykernel)",
   "language": "python",
   "name": "python3"
  },
  "language_info": {
   "codemirror_mode": {
    "name": "ipython",
    "version": 3
   },
   "file_extension": ".py",
   "mimetype": "text/x-python",
   "name": "python",
   "nbconvert_exporter": "python",
   "pygments_lexer": "ipython3",
   "version": "3.11.2"
  }
 },
 "nbformat": 4,
 "nbformat_minor": 4
}
